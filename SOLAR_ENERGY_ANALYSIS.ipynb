{
  "nbformat": 4,
  "nbformat_minor": 0,
  "metadata": {
    "colab": {
      "provenance": []
    },
    "kernelspec": {
      "name": "python3",
      "display_name": "Python 3"
    },
    "language_info": {
      "name": "python"
    }
  },
  "cells": [
    {
      "cell_type": "code",
      "execution_count": 1,
      "metadata": {
        "id": "3l1peywpJl5a"
      },
      "outputs": [],
      "source": [
        "# Install & Import Library\n",
        "import pandas as pd\n",
        "import numpy as np\n",
        "import matplotlib.pyplot as plt\n",
        "import seaborn as sns"
      ]
    },
    {
      "cell_type": "code",
      "source": [
        "#Load Dataset\n",
        "from google.colab import files\n",
        "uploaded = files.upload()\n",
        "\n",
        "df = pd.read_csv(\"solar_energy_analysis.csv\")"
      ],
      "metadata": {
        "colab": {
          "base_uri": "https://localhost:8080/",
          "height": 73
        },
        "id": "2_vlc9NPJz3n",
        "outputId": "d87f1b52-f1cd-486a-fcf4-e8092197d68e"
      },
      "execution_count": 3,
      "outputs": [
        {
          "output_type": "display_data",
          "data": {
            "text/plain": [
              "<IPython.core.display.HTML object>"
            ],
            "text/html": [
              "\n",
              "     <input type=\"file\" id=\"files-e40c647d-287f-49d1-97a0-ec4cd918f3a6\" name=\"files[]\" multiple disabled\n",
              "        style=\"border:none\" />\n",
              "     <output id=\"result-e40c647d-287f-49d1-97a0-ec4cd918f3a6\">\n",
              "      Upload widget is only available when the cell has been executed in the\n",
              "      current browser session. Please rerun this cell to enable.\n",
              "      </output>\n",
              "      <script>// Copyright 2017 Google LLC\n",
              "//\n",
              "// Licensed under the Apache License, Version 2.0 (the \"License\");\n",
              "// you may not use this file except in compliance with the License.\n",
              "// You may obtain a copy of the License at\n",
              "//\n",
              "//      http://www.apache.org/licenses/LICENSE-2.0\n",
              "//\n",
              "// Unless required by applicable law or agreed to in writing, software\n",
              "// distributed under the License is distributed on an \"AS IS\" BASIS,\n",
              "// WITHOUT WARRANTIES OR CONDITIONS OF ANY KIND, either express or implied.\n",
              "// See the License for the specific language governing permissions and\n",
              "// limitations under the License.\n",
              "\n",
              "/**\n",
              " * @fileoverview Helpers for google.colab Python module.\n",
              " */\n",
              "(function(scope) {\n",
              "function span(text, styleAttributes = {}) {\n",
              "  const element = document.createElement('span');\n",
              "  element.textContent = text;\n",
              "  for (const key of Object.keys(styleAttributes)) {\n",
              "    element.style[key] = styleAttributes[key];\n",
              "  }\n",
              "  return element;\n",
              "}\n",
              "\n",
              "// Max number of bytes which will be uploaded at a time.\n",
              "const MAX_PAYLOAD_SIZE = 100 * 1024;\n",
              "\n",
              "function _uploadFiles(inputId, outputId) {\n",
              "  const steps = uploadFilesStep(inputId, outputId);\n",
              "  const outputElement = document.getElementById(outputId);\n",
              "  // Cache steps on the outputElement to make it available for the next call\n",
              "  // to uploadFilesContinue from Python.\n",
              "  outputElement.steps = steps;\n",
              "\n",
              "  return _uploadFilesContinue(outputId);\n",
              "}\n",
              "\n",
              "// This is roughly an async generator (not supported in the browser yet),\n",
              "// where there are multiple asynchronous steps and the Python side is going\n",
              "// to poll for completion of each step.\n",
              "// This uses a Promise to block the python side on completion of each step,\n",
              "// then passes the result of the previous step as the input to the next step.\n",
              "function _uploadFilesContinue(outputId) {\n",
              "  const outputElement = document.getElementById(outputId);\n",
              "  const steps = outputElement.steps;\n",
              "\n",
              "  const next = steps.next(outputElement.lastPromiseValue);\n",
              "  return Promise.resolve(next.value.promise).then((value) => {\n",
              "    // Cache the last promise value to make it available to the next\n",
              "    // step of the generator.\n",
              "    outputElement.lastPromiseValue = value;\n",
              "    return next.value.response;\n",
              "  });\n",
              "}\n",
              "\n",
              "/**\n",
              " * Generator function which is called between each async step of the upload\n",
              " * process.\n",
              " * @param {string} inputId Element ID of the input file picker element.\n",
              " * @param {string} outputId Element ID of the output display.\n",
              " * @return {!Iterable<!Object>} Iterable of next steps.\n",
              " */\n",
              "function* uploadFilesStep(inputId, outputId) {\n",
              "  const inputElement = document.getElementById(inputId);\n",
              "  inputElement.disabled = false;\n",
              "\n",
              "  const outputElement = document.getElementById(outputId);\n",
              "  outputElement.innerHTML = '';\n",
              "\n",
              "  const pickedPromise = new Promise((resolve) => {\n",
              "    inputElement.addEventListener('change', (e) => {\n",
              "      resolve(e.target.files);\n",
              "    });\n",
              "  });\n",
              "\n",
              "  const cancel = document.createElement('button');\n",
              "  inputElement.parentElement.appendChild(cancel);\n",
              "  cancel.textContent = 'Cancel upload';\n",
              "  const cancelPromise = new Promise((resolve) => {\n",
              "    cancel.onclick = () => {\n",
              "      resolve(null);\n",
              "    };\n",
              "  });\n",
              "\n",
              "  // Wait for the user to pick the files.\n",
              "  const files = yield {\n",
              "    promise: Promise.race([pickedPromise, cancelPromise]),\n",
              "    response: {\n",
              "      action: 'starting',\n",
              "    }\n",
              "  };\n",
              "\n",
              "  cancel.remove();\n",
              "\n",
              "  // Disable the input element since further picks are not allowed.\n",
              "  inputElement.disabled = true;\n",
              "\n",
              "  if (!files) {\n",
              "    return {\n",
              "      response: {\n",
              "        action: 'complete',\n",
              "      }\n",
              "    };\n",
              "  }\n",
              "\n",
              "  for (const file of files) {\n",
              "    const li = document.createElement('li');\n",
              "    li.append(span(file.name, {fontWeight: 'bold'}));\n",
              "    li.append(span(\n",
              "        `(${file.type || 'n/a'}) - ${file.size} bytes, ` +\n",
              "        `last modified: ${\n",
              "            file.lastModifiedDate ? file.lastModifiedDate.toLocaleDateString() :\n",
              "                                    'n/a'} - `));\n",
              "    const percent = span('0% done');\n",
              "    li.appendChild(percent);\n",
              "\n",
              "    outputElement.appendChild(li);\n",
              "\n",
              "    const fileDataPromise = new Promise((resolve) => {\n",
              "      const reader = new FileReader();\n",
              "      reader.onload = (e) => {\n",
              "        resolve(e.target.result);\n",
              "      };\n",
              "      reader.readAsArrayBuffer(file);\n",
              "    });\n",
              "    // Wait for the data to be ready.\n",
              "    let fileData = yield {\n",
              "      promise: fileDataPromise,\n",
              "      response: {\n",
              "        action: 'continue',\n",
              "      }\n",
              "    };\n",
              "\n",
              "    // Use a chunked sending to avoid message size limits. See b/62115660.\n",
              "    let position = 0;\n",
              "    do {\n",
              "      const length = Math.min(fileData.byteLength - position, MAX_PAYLOAD_SIZE);\n",
              "      const chunk = new Uint8Array(fileData, position, length);\n",
              "      position += length;\n",
              "\n",
              "      const base64 = btoa(String.fromCharCode.apply(null, chunk));\n",
              "      yield {\n",
              "        response: {\n",
              "          action: 'append',\n",
              "          file: file.name,\n",
              "          data: base64,\n",
              "        },\n",
              "      };\n",
              "\n",
              "      let percentDone = fileData.byteLength === 0 ?\n",
              "          100 :\n",
              "          Math.round((position / fileData.byteLength) * 100);\n",
              "      percent.textContent = `${percentDone}% done`;\n",
              "\n",
              "    } while (position < fileData.byteLength);\n",
              "  }\n",
              "\n",
              "  // All done.\n",
              "  yield {\n",
              "    response: {\n",
              "      action: 'complete',\n",
              "    }\n",
              "  };\n",
              "}\n",
              "\n",
              "scope.google = scope.google || {};\n",
              "scope.google.colab = scope.google.colab || {};\n",
              "scope.google.colab._files = {\n",
              "  _uploadFiles,\n",
              "  _uploadFilesContinue,\n",
              "};\n",
              "})(self);\n",
              "</script> "
            ]
          },
          "metadata": {}
        },
        {
          "output_type": "stream",
          "name": "stdout",
          "text": [
            "Saving solar_energy_analysis.csv to solar_energy_analysis.csv\n"
          ]
        }
      ]
    },
    {
      "cell_type": "code",
      "source": [
        "# Preview\n",
        "print(\"Preview Data:\")\n",
        "print(df.head(), \"\\n\")"
      ],
      "metadata": {
        "colab": {
          "base_uri": "https://localhost:8080/"
        },
        "id": "dHr6tq2BJ5_5",
        "outputId": "10c56e6e-9c3b-4ffa-c323-a1f3f267a9d9"
      },
      "execution_count": 4,
      "outputs": [
        {
          "output_type": "stream",
          "name": "stdout",
          "text": [
            "Preview Data:\n",
            "      Tanggal  Irradiance_kWh_m2  Temperature_C  Humidity_%  Solar_Output_MWh\n",
            "0  2025-01-01               5.50           28.2        65.2            115.48\n",
            "1  2025-01-02               4.86           35.6         NaN            100.60\n",
            "2  2025-01-03               5.65           30.0        58.9            122.47\n",
            "3  2025-01-04               6.52           26.8        58.0            142.08\n",
            "4  2025-01-05               4.77           32.5        78.1             93.48 \n",
            "\n"
          ]
        }
      ]
    },
    {
      "cell_type": "code",
      "source": [
        "#Statistik Deskriptif\n",
        "stats = pd.DataFrame({\n",
        "    \"Mean\": df[[\"Irradiance_kWh_m2\", \"Temperature_C\", \"Humidity_%\", \"Solar_Output_MWh\"]].mean(),\n",
        "    \"Median\": df[[\"Irradiance_kWh_m2\", \"Temperature_C\", \"Humidity_%\", \"Solar_Output_MWh\"]].median(),\n",
        "    \"Std Dev\": df[[\"Irradiance_kWh_m2\", \"Temperature_C\", \"Humidity_%\", \"Solar_Output_MWh\"]].std()\n",
        "})\n",
        "print(\"=== Statistik Deskriptif ===\")\n",
        "print(stats, \"\\n\")"
      ],
      "metadata": {
        "colab": {
          "base_uri": "https://localhost:8080/"
        },
        "id": "UKN6Jw74J51X",
        "outputId": "3873ed77-639a-47b0-8e29-0e44b33c5c44"
      },
      "execution_count": 5,
      "outputs": [
        {
          "output_type": "stream",
          "name": "stdout",
          "text": [
            "=== Statistik Deskriptif ===\n",
            "                         Mean  Median    Std Dev\n",
            "Irradiance_kWh_m2    5.279259    4.86   2.134635\n",
            "Temperature_C       28.696296   29.10   4.665955\n",
            "Humidity_%          71.811111   70.90  14.085981\n",
            "Solar_Output_MWh   113.812593   95.77  79.354831 \n",
            "\n"
          ]
        }
      ]
    },
    {
      "cell_type": "code",
      "source": [
        "# Histogram contoh: Temperature\n",
        "plt.figure(figsize=(6,4))\n",
        "plt.hist(df[\"Temperature_C\"].dropna(), bins=15, edgecolor=\"black\")\n",
        "plt.title(\"Histogram Temperature (°C)\")\n",
        "plt.xlabel(\"Temperature (°C)\")\n",
        "plt.ylabel(\"Frequency\")\n",
        "plt.show()"
      ],
      "metadata": {
        "colab": {
          "base_uri": "https://localhost:8080/",
          "height": 410
        },
        "id": "V3iW_YXrJ5qn",
        "outputId": "d3f93608-d334-4958-d4e8-b0111e0ffd57"
      },
      "execution_count": 6,
      "outputs": [
        {
          "output_type": "display_data",
          "data": {
            "text/plain": [
              "<Figure size 600x400 with 1 Axes>"
            ],
            "image/png": "[encoded data removed]"
          },
          "metadata": {}
        }
      ]
    },
    {
      "cell_type": "code",
      "source": [
        "# Boxplot Solar Output\n",
        "plt.figure(figsize=(6,4))\n",
        "sns.boxplot(x=df[\"Solar_Output_MWh\"])\n",
        "plt.title(\"Boxplot Solar Output (MWh)\")\n",
        "plt.show()"
      ],
      "metadata": {
        "colab": {
          "base_uri": "https://localhost:8080/",
          "height": 410
        },
        "id": "6vbclSe5KDjH",
        "outputId": "acffab5b-f239-4e0d-de79-521cdf7b5d9a"
      },
      "execution_count": 7,
      "outputs": [
        {
          "output_type": "display_data",
          "data": {
            "text/plain": [
              "<Figure size 600x400 with 1 Axes>"
            ],
            "image/png": "[encoded data removed]"
          },
          "metadata": {}
        }
      ]
    },
    {
      "cell_type": "code",
      "source": [
        "# Cek missing values\n",
        "print(\"=== Missing Values ===\")\n",
        "print(df.isnull().sum(), \"\\n\")"
      ],
      "metadata": {
        "colab": {
          "base_uri": "https://localhost:8080/"
        },
        "id": "qn2aDi2bKDdX",
        "outputId": "4bdbf125-568d-4cfa-f3b9-2d112d93f990"
      },
      "execution_count": 8,
      "outputs": [
        {
          "output_type": "stream",
          "name": "stdout",
          "text": [
            "=== Missing Values ===\n",
            "Tanggal              0\n",
            "Irradiance_kWh_m2    3\n",
            "Temperature_C        3\n",
            "Humidity_%           3\n",
            "Solar_Output_MWh     3\n",
            "dtype: int64 \n",
            "\n"
          ]
        }
      ]
    },
    {
      "cell_type": "code",
      "source": [
        "# Strategi 1: Hapus baris dengan missing value\n",
        "df_dropna = df.dropna()"
      ],
      "metadata": {
        "id": "6OxC6cjTKDZo"
      },
      "execution_count": 9,
      "outputs": []
    },
    {
      "cell_type": "code",
      "source": [
        "# Strategi 2: Isi dengan mean\n",
        "df_fill = df.fillna(df.mean(numeric_only=True))\n",
        "\n",
        "print(\"Jumlah baris asli:\", len(df))\n",
        "print(\"Setelah drop NA:\", len(df_dropna))\n",
        "print(\"Setelah isi mean:\", len(df_fill), \"\\n\")"
      ],
      "metadata": {
        "colab": {
          "base_uri": "https://localhost:8080/"
        },
        "id": "3W__f6mgKMPw",
        "outputId": "3f426c79-3ad0-4991-87d0-1e48684edd58"
      },
      "execution_count": 10,
      "outputs": [
        {
          "output_type": "stream",
          "name": "stdout",
          "text": [
            "Jumlah baris asli: 30\n",
            "Setelah drop NA: 20\n",
            "Setelah isi mean: 30 \n",
            "\n"
          ]
        }
      ]
    },
    {
      "cell_type": "code",
      "source": [
        "# Deteksi outlier dengan IQR (contoh Solar Output)\n",
        "Q1 = df[\"Solar_Output_MWh\"].quantile(0.25)\n",
        "Q3 = df[\"Solar_Output_MWh\"].quantile(0.75)\n",
        "IQR = Q3 - Q1\n",
        "outliers = df[(df[\"Solar_Output_MWh\"] < Q1 - 1.5*IQR) | (df[\"Solar_Output_MWh\"] > Q3 + 1.5*IQR)]\n",
        "print(\"=== Jumlah Outlier Solar Output ===\", len(outliers), \"\\n\")"
      ],
      "metadata": {
        "colab": {
          "base_uri": "https://localhost:8080/"
        },
        "id": "L4Ovt2qFKMNX",
        "outputId": "6a4bf10c-c300-4c6c-b021-adf10653658e"
      },
      "execution_count": 11,
      "outputs": [
        {
          "output_type": "stream",
          "name": "stdout",
          "text": [
            "=== Jumlah Outlier Solar Output === 1 \n",
            "\n"
          ]
        }
      ]
    },
    {
      "cell_type": "code",
      "source": [
        "#Hubungan Antar Variabel\n",
        "corr = df[[\"Irradiance_kWh_m2\", \"Temperature_C\", \"Humidity_%\", \"Solar_Output_MWh\"]].corr()\n",
        "\n",
        "print(\"=== Correlation Matrix ===\")\n",
        "print(corr, \"\\n\")\n",
        "\n",
        "plt.figure(figsize=(6,4))\n",
        "sns.heatmap(corr, annot=True, cmap=\"coolwarm\", center=0)\n",
        "plt.title(\"Correlation Matrix Heatmap\")\n",
        "plt.show()"
      ],
      "metadata": {
        "colab": {
          "base_uri": "https://localhost:8080/",
          "height": 740
        },
        "id": "exeki3ctKOqw",
        "outputId": "ae86c273-aff9-4697-e498-8e1dc08ceb72"
      },
      "execution_count": 12,
      "outputs": [
        {
          "output_type": "stream",
          "name": "stdout",
          "text": [
            "=== Correlation Matrix ===\n",
            "                   Irradiance_kWh_m2  Temperature_C  Humidity_%  \\\n",
            "Irradiance_kWh_m2           1.000000      -0.037314    0.050627   \n",
            "Temperature_C              -0.037314       1.000000    0.010480   \n",
            "Humidity_%                  0.050627       0.010480    1.000000   \n",
            "Solar_Output_MWh            0.554691       0.142132   -0.112064   \n",
            "\n",
            "                   Solar_Output_MWh  \n",
            "Irradiance_kWh_m2          0.554691  \n",
            "Temperature_C              0.142132  \n",
            "Humidity_%                -0.112064  \n",
            "Solar_Output_MWh           1.000000   \n",
            "\n"
          ]
        },
        {
          "output_type": "display_data",
          "data": {
            "text/plain": [
              "<Figure size 600x400 with 2 Axes>"
            ],
            "image/png": "[encoded data removed]"
          },
          "metadata": {}
        }
      ]
    },
    {
      "cell_type": "code",
      "source": [
        "# Interpretasi sederhana\n",
        "max_corr = corr[\"Solar_Output_MWh\"].drop(\"Solar_Output_MWh\").abs().idxmax()\n",
        "print(f\"Variabel yang paling kuat hubungannya dengan Solar Output adalah: {max_corr}\")"
      ],
      "metadata": {
        "colab": {
          "base_uri": "https://localhost:8080/"
        },
        "id": "5zVn1NRtKZ9J",
        "outputId": "4ae9d01d-143a-4721-917c-239f8b27f13a"
      },
      "execution_count": 13,
      "outputs": [
        {
          "output_type": "stream",
          "name": "stdout",
          "text": [
            "Variabel yang paling kuat hubungannya dengan Solar Output adalah: Irradiance_kWh_m2\n"
          ]
        }
      ]
    }
  ]
}