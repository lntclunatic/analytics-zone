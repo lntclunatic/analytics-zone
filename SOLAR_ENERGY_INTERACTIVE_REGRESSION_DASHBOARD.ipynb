{
  "cells": [
    {
      "cell_type": "code",
      "source": [
        "# 1. INSTALL & IMPORT LIBRARY\n",
        "!pip install -q plotly ipywidgets\n",
        "from google.colab import output\n",
        "output.enable_custom_widget_manager()\n",
        "\n",
        "import pandas as pd\n",
        "import numpy as np\n",
        "import plotly.express as px\n",
        "import ipywidgets as widgets\n",
        "from IPython.display import display\n",
        "import statsmodels.api as sm\n",
        "from sklearn.metrics import mean_absolute_error, mean_squared_error"
      ],
      "metadata": {
        "colab": {
          "base_uri": "https://localhost:8080/"
        },
        "id": "d85D7W29VczR",
        "outputId": "ba06d1cc-810d-450e-ae06-42cce6f644ca"
      },
      "execution_count": 1,
      "outputs": [
        {
          "output_type": "stream",
          "name": "stdout",
          "text": [
            "\u001b[?25l   \u001b[90m━━━━━━━━━━━━━━━━━━━━━━━━━━━━━━━━━━━━━━━━\u001b[0m \u001b[32m0.0/1.6 MB\u001b[0m \u001b[31m?\u001b[0m eta \u001b[36m-:--:--\u001b[0m\r\u001b[2K   \u001b[90m━━━━━━━━━━━━━━━━━━━━━━━━━━━━━━━━━━━━━━━━\u001b[0m \u001b[32m1.6/1.6 MB\u001b[0m \u001b[31m46.0 MB/s\u001b[0m eta \u001b[36m0:00:00\u001b[0m\n",
            "\u001b[?25h"
          ]
        }
      ]
    },
    {
      "cell_type": "code",
      "source": [
        "# 2. UPLOAD DATASET\n",
        "from google.colab import files\n",
        "print(\"forecasting_dataset.csv\")\n",
        "uploaded = files.upload()"
      ],
      "metadata": {
        "colab": {
          "base_uri": "https://localhost:8080/",
          "height": 90
        },
        "id": "bt_PrqNlVcuu",
        "outputId": "7f96736f-8962-46be-923c-b822b1ab0cb4"
      },
      "execution_count": 2,
      "outputs": [
        {
          "output_type": "stream",
          "name": "stdout",
          "text": [
            "forecasting_dataset.csv\n"
          ]
        },
        {
          "output_type": "display_data",
          "data": {
            "text/plain": [
              "<IPython.core.display.HTML object>"
            ],
            "text/html": [
              "\n",
              "     <input type=\"file\" id=\"files-ce956c1e-8e11-4277-8528-ee098ae11b6f\" name=\"files[]\" multiple disabled\n",
              "        style=\"border:none\" />\n",
              "     <output id=\"result-ce956c1e-8e11-4277-8528-ee098ae11b6f\">\n",
              "      Upload widget is only available when the cell has been executed in the\n",
              "      current browser session. Please rerun this cell to enable.\n",
              "      </output>\n",
              "      <script>// Copyright 2017 Google LLC\n",
              "//\n",
              "// Licensed under the Apache License, Version 2.0 (the \"License\");\n",
              "// you may not use this file except in compliance with the License.\n",
              "// You may obtain a copy of the License at\n",
              "//\n",
              "//      http://www.apache.org/licenses/LICENSE-2.0\n",
              "//\n",
              "// Unless required by applicable law or agreed to in writing, software\n",
              "// distributed under the License is distributed on an \"AS IS\" BASIS,\n",
              "// WITHOUT WARRANTIES OR CONDITIONS OF ANY KIND, either express or implied.\n",
              "// See the License for the specific language governing permissions and\n",
              "// limitations under the License.\n",
              "\n",
              "/**\n",
              " * @fileoverview Helpers for google.colab Python module.\n",
              " */\n",
              "(function(scope) {\n",
              "function span(text, styleAttributes = {}) {\n",
              "  const element = document.createElement('span');\n",
              "  element.textContent = text;\n",
              "  for (const key of Object.keys(styleAttributes)) {\n",
              "    element.style[key] = styleAttributes[key];\n",
              "  }\n",
              "  return element;\n",
              "}\n",
              "\n",
              "// Max number of bytes which will be uploaded at a time.\n",
              "const MAX_PAYLOAD_SIZE = 100 * 1024;\n",
              "\n",
              "function _uploadFiles(inputId, outputId) {\n",
              "  const steps = uploadFilesStep(inputId, outputId);\n",
              "  const outputElement = document.getElementById(outputId);\n",
              "  // Cache steps on the outputElement to make it available for the next call\n",
              "  // to uploadFilesContinue from Python.\n",
              "  outputElement.steps = steps;\n",
              "\n",
              "  return _uploadFilesContinue(outputId);\n",
              "}\n",
              "\n",
              "// This is roughly an async generator (not supported in the browser yet),\n",
              "// where there are multiple asynchronous steps and the Python side is going\n",
              "// to poll for completion of each step.\n",
              "// This uses a Promise to block the python side on completion of each step,\n",
              "// then passes the result of the previous step as the input to the next step.\n",
              "function _uploadFilesContinue(outputId) {\n",
              "  const outputElement = document.getElementById(outputId);\n",
              "  const steps = outputElement.steps;\n",
              "\n",
              "  const next = steps.next(outputElement.lastPromiseValue);\n",
              "  return Promise.resolve(next.value.promise).then((value) => {\n",
              "    // Cache the last promise value to make it available to the next\n",
              "    // step of the generator.\n",
              "    outputElement.lastPromiseValue = value;\n",
              "    return next.value.response;\n",
              "  });\n",
              "}\n",
              "\n",
              "/**\n",
              " * Generator function which is called between each async step of the upload\n",
              " * process.\n",
              " * @param {string} inputId Element ID of the input file picker element.\n",
              " * @param {string} outputId Element ID of the output display.\n",
              " * @return {!Iterable<!Object>} Iterable of next steps.\n",
              " */\n",
              "function* uploadFilesStep(inputId, outputId) {\n",
              "  const inputElement = document.getElementById(inputId);\n",
              "  inputElement.disabled = false;\n",
              "\n",
              "  const outputElement = document.getElementById(outputId);\n",
              "  outputElement.innerHTML = '';\n",
              "\n",
              "  const pickedPromise = new Promise((resolve) => {\n",
              "    inputElement.addEventListener('change', (e) => {\n",
              "      resolve(e.target.files);\n",
              "    });\n",
              "  });\n",
              "\n",
              "  const cancel = document.createElement('button');\n",
              "  inputElement.parentElement.appendChild(cancel);\n",
              "  cancel.textContent = 'Cancel upload';\n",
              "  const cancelPromise = new Promise((resolve) => {\n",
              "    cancel.onclick = () => {\n",
              "      resolve(null);\n",
              "    };\n",
              "  });\n",
              "\n",
              "  // Wait for the user to pick the files.\n",
              "  const files = yield {\n",
              "    promise: Promise.race([pickedPromise, cancelPromise]),\n",
              "    response: {\n",
              "      action: 'starting',\n",
              "    }\n",
              "  };\n",
              "\n",
              "  cancel.remove();\n",
              "\n",
              "  // Disable the input element since further picks are not allowed.\n",
              "  inputElement.disabled = true;\n",
              "\n",
              "  if (!files) {\n",
              "    return {\n",
              "      response: {\n",
              "        action: 'complete',\n",
              "      }\n",
              "    };\n",
              "  }\n",
              "\n",
              "  for (const file of files) {\n",
              "    const li = document.createElement('li');\n",
              "    li.append(span(file.name, {fontWeight: 'bold'}));\n",
              "    li.append(span(\n",
              "        `(${file.type || 'n/a'}) - ${file.size} bytes, ` +\n",
              "        `last modified: ${\n",
              "            file.lastModifiedDate ? file.lastModifiedDate.toLocaleDateString() :\n",
              "                                    'n/a'} - `));\n",
              "    const percent = span('0% done');\n",
              "    li.appendChild(percent);\n",
              "\n",
              "    outputElement.appendChild(li);\n",
              "\n",
              "    const fileDataPromise = new Promise((resolve) => {\n",
              "      const reader = new FileReader();\n",
              "      reader.onload = (e) => {\n",
              "        resolve(e.target.result);\n",
              "      };\n",
              "      reader.readAsArrayBuffer(file);\n",
              "    });\n",
              "    // Wait for the data to be ready.\n",
              "    let fileData = yield {\n",
              "      promise: fileDataPromise,\n",
              "      response: {\n",
              "        action: 'continue',\n",
              "      }\n",
              "    };\n",
              "\n",
              "    // Use a chunked sending to avoid message size limits. See b/62115660.\n",
              "    let position = 0;\n",
              "    do {\n",
              "      const length = Math.min(fileData.byteLength - position, MAX_PAYLOAD_SIZE);\n",
              "      const chunk = new Uint8Array(fileData, position, length);\n",
              "      position += length;\n",
              "\n",
              "      const base64 = btoa(String.fromCharCode.apply(null, chunk));\n",
              "      yield {\n",
              "        response: {\n",
              "          action: 'append',\n",
              "          file: file.name,\n",
              "          data: base64,\n",
              "        },\n",
              "      };\n",
              "\n",
              "      let percentDone = fileData.byteLength === 0 ?\n",
              "          100 :\n",
              "          Math.round((position / fileData.byteLength) * 100);\n",
              "      percent.textContent = `${percentDone}% done`;\n",
              "\n",
              "    } while (position < fileData.byteLength);\n",
              "  }\n",
              "\n",
              "  // All done.\n",
              "  yield {\n",
              "    response: {\n",
              "      action: 'complete',\n",
              "    }\n",
              "  };\n",
              "}\n",
              "\n",
              "scope.google = scope.google || {};\n",
              "scope.google.colab = scope.google.colab || {};\n",
              "scope.google.colab._files = {\n",
              "  _uploadFiles,\n",
              "  _uploadFilesContinue,\n",
              "};\n",
              "})(self);\n",
              "</script> "
            ]
          },
          "metadata": {}
        },
        {
          "output_type": "stream",
          "name": "stdout",
          "text": [
            "Saving forecasting_dataset.csv to forecasting_dataset.csv\n"
          ]
        }
      ]
    },
    {
      "cell_type": "code",
      "source": [
        "# 3. BACA DATA & RENAME KOLOM\n",
        "df = pd.read_csv(\"forecasting_dataset.csv\")\n",
        "df = df.rename(columns={\n",
        "    \"Irradiance (kWh/m²)\": \"Irradiance\",\n",
        "    \"Temperature (°C)\": \"Temperature\",\n",
        "    \"Humidity (%)\": \"Humidity\",\n",
        "    \"Solar Output (MWh)\": \"Solar Output\"\n",
        "})"
      ],
      "metadata": {
        "id": "y9Gkpq6yVcq-"
      },
      "execution_count": 3,
      "outputs": []
    },
    {
      "cell_type": "code",
      "source": [
        "# 4. PARSE DATE & BUAT DAY NUMBER\n",
        "df[\"Date\"] = pd.to_datetime(df[\"Date\"])\n",
        "df[\"Day_Number\"] = (df[\"Date\"] - df[\"Date\"].min()).dt.days + 1\n",
        "\n",
        "print(\"Data berhasil dibaca!\")\n",
        "print(df.head())"
      ],
      "metadata": {
        "colab": {
          "base_uri": "https://localhost:8080/"
        },
        "id": "AXqnvEyqVcoH",
        "outputId": "73b693d2-c027-4098-b0da-35c968ac072a"
      },
      "execution_count": 4,
      "outputs": [
        {
          "output_type": "stream",
          "name": "stdout",
          "text": [
            "Data berhasil dibaca!\n",
            "        Date  Irradiance  Temperature   Humidity  Solar Output  Day_Number\n",
            "0 2023-01-01    5.745071    27.169259  63.577874      0.983215           1\n",
            "1 2023-01-02    4.792604    29.158709  65.607845      0.846485           2\n",
            "2 2023-01-03    5.971533    29.314571  70.830512      1.343765           3\n",
            "3 2023-01-04    7.284545    28.395445  70.538021      1.578983           4\n",
            "4 2023-01-05    4.648770    29.677429  46.223306      0.925574           5\n"
          ]
        }
      ]
    },
    {
      "cell_type": "code",
      "source": [
        "# 5. REGRESI MULTIVARIAT (Irradiance, Temperature, Humidity → Solar Output)\n",
        "X = df[[\"Irradiance\", \"Temperature\", \"Humidity\"]]\n",
        "X = sm.add_constant(X)\n",
        "y = df[\"Solar Output\"]\n",
        "\n",
        "model = sm.OLS(y, X).fit()\n",
        "df[\"Predicted\"] = model.predict(X)\n",
        "df[\"Error\"] = df[\"Predicted\"] - df[\"Solar Output\"]\n",
        "\n",
        "print(\"\\n HASIL REGRESI MULTIVARIAT\")\n",
        "print(model.summary())"
      ],
      "metadata": {
        "colab": {
          "base_uri": "https://localhost:8080/"
        },
        "id": "vgfD9pZCVckl",
        "outputId": "53a796d1-ee64-4c7c-e148-775f7fce5a46"
      },
      "execution_count": 6,
      "outputs": [
        {
          "output_type": "stream",
          "name": "stdout",
          "text": [
            "\n",
            " HASIL REGRESI MULTIVARIAT\n",
            "                            OLS Regression Results                            \n",
            "==============================================================================\n",
            "Dep. Variable:           Solar Output   R-squared:                       0.660\n",
            "Model:                            OLS   Adj. R-squared:                  0.650\n",
            "Method:                 Least Squares   F-statistic:                     62.17\n",
            "Date:                Wed, 17 Sep 2025   Prob (F-statistic):           2.03e-22\n",
            "Time:                        00:12:17   Log-Likelihood:                 33.483\n",
            "No. Observations:                 100   AIC:                            -58.97\n",
            "Df Residuals:                      96   BIC:                            -48.54\n",
            "Df Model:                           3                                         \n",
            "Covariance Type:            nonrobust                                         \n",
            "===============================================================================\n",
            "                  coef    std err          t      P>|t|      [0.025      0.975]\n",
            "-------------------------------------------------------------------------------\n",
            "const           0.2182      0.312      0.699      0.486      -0.402       0.838\n",
            "Irradiance      0.1764      0.013     13.164      0.000       0.150       0.203\n",
            "Temperature    -0.0038      0.009     -0.407      0.685      -0.022       0.015\n",
            "Humidity        0.0005      0.002      0.322      0.748      -0.003       0.004\n",
            "==============================================================================\n",
            "Omnibus:                        1.353   Durbin-Watson:                   1.821\n",
            "Prob(Omnibus):                  0.508   Jarque-Bera (JB):                1.317\n",
            "Skew:                           0.169   Prob(JB):                        0.518\n",
            "Kurtosis:                       2.551   Cond. No.                     1.21e+03\n",
            "==============================================================================\n",
            "\n",
            "Notes:\n",
            "[1] Standard Errors assume that the covariance matrix of the errors is correctly specified.\n",
            "[2] The condition number is large, 1.21e+03. This might indicate that there are\n",
            "strong multicollinearity or other numerical problems.\n"
          ]
        }
      ]
    },
    {
      "cell_type": "code",
      "source": [
        "# 6. HITUNG METRIK EVALUASI\n",
        "mae = mean_absolute_error(df[\"Solar Output\"], df[\"Predicted\"])\n",
        "rmse = np.sqrt(mean_squared_error(df[\"Solar Output\"], df[\"Predicted\"]))\n",
        "mape = np.mean(np.abs(df[\"Error\"] / df[\"Solar Output\"])) * 100\n",
        "\n",
        "print(f\"\\n Evaluasi Model:\")\n",
        "print(f\"MAE : {mae:.3f}\")\n",
        "print(f\"RMSE: {rmse:.3f}\")\n",
        "print(f\"MAPE: {mape:.2f}%\")"
      ],
      "metadata": {
        "colab": {
          "base_uri": "https://localhost:8080/"
        },
        "id": "NLyLaQF9Vch_",
        "outputId": "0de3029c-873d-4614-879d-e2a9286c233c"
      },
      "execution_count": 7,
      "outputs": [
        {
          "output_type": "stream",
          "name": "stdout",
          "text": [
            "\n",
            " Evaluasi Model:\n",
            "MAE : 0.142\n",
            "RMSE: 0.173\n",
            "MAPE: 16.43%\n"
          ]
        }
      ]
    },
    {
      "cell_type": "code",
      "source": [
        "# 7. DASHBOARD INTERAKTIF (DROPDOWN)\n",
        "print(\"\\n Dashboard Interaktif - Pilih Tanggal untuk Lihat Hasil Prediksi\")\n",
        "\n",
        "dropdown = widgets.Dropdown(\n",
        "    options=[\"All\"] + list(df[\"Date\"].dt.strftime(\"%Y-%m-%d\").unique()),\n",
        "    description=\"Tanggal:\"\n",
        ")\n",
        "\n",
        "def update_dashboard(selected_date):\n",
        "    if selected_date != \"All\":\n",
        "        filtered_df = df[df[\"Date\"].dt.strftime(\"%Y-%m-%d\") == selected_date]\n",
        "    else:\n",
        "        filtered_df = df\n",
        "\n",
        "    # Scatter Plot: Prediksi vs Aktual\n",
        "    fig1 = px.scatter(\n",
        "        filtered_df,\n",
        "        x=\"Solar Output\",\n",
        "        y=\"Predicted\",\n",
        "        title=\"Prediksi vs Aktual Solar Output\",\n",
        "        labels={\"Solar Output\": \"Actual\", \"Predicted\": \"Predicted\"},\n",
        "        trendline=\"ols\"\n",
        "    )\n",
        "    fig1.show()\n",
        "\n",
        "    # Line Chart: Actual vs Predicted per Date\n",
        "    fig2 = px.line(\n",
        "        filtered_df,\n",
        "        x=\"Date\",\n",
        "        y=[\"Solar Output\", \"Predicted\"],\n",
        "        title=\"Time Series: Aktual vs Prediksi\"\n",
        "    )\n",
        "    fig2.show()\n",
        "\n",
        "try:\n",
        "    widgets.interact(update_dashboard, selected_date=dropdown)\n",
        "except:\n",
        "    print(\"Widget tidak didukung di Colab. Menampilkan semua grafik sekaligus...\")\n",
        "    update_dashboard(\"All\")"
      ],
      "metadata": {
        "colab": {
          "base_uri": "https://localhost:8080/",
          "height": 1000,
          "referenced_widgets": [
            "b817dbe7256746abaac69e6e1cec3f0e",
            "0dd0fc087f3e4686aca3bc2e16a32471",
            "3d1f41c9c3284f8eaef83b9dd4030474",
            "154d7f77e0774437990de7199d6e9584",
            "6c73b095e355430ea7ffa8c8a4a51f0d",
            "5b14648fbba34edeb54a7654d4029248",
            "2d833a7d39cf4e18a864e43b8c6ecb83"
          ]
        },
        "id": "QG-HAyR0VcfM",
        "outputId": "09be3e84-ed1e-43c9-a9af-d29f3782c516"
      },
      "execution_count": 8,
      "outputs": [
        {
          "output_type": "stream",
          "name": "stdout",
          "text": [
            "\n",
            " Dashboard Interaktif - Pilih Tanggal untuk Lihat Hasil Prediksi\n"
          ]
        },
        {
          "output_type": "display_data",
          "data": {
            "text/plain": [
              "interactive(children=(Dropdown(description='Tanggal:', options=('All', '2023-01-01', '2023-01-02', '2023-01-03…"
            ],
            "application/vnd.jupyter.widget-view+json": {
              "version_major": 2,
              "version_minor": 0,
              "model_id": "b817dbe7256746abaac69e6e1cec3f0e"
            }
          },
          "metadata": {
            "application/vnd.jupyter.widget-view+json": {
              "colab": {
                "custom_widget_manager": {
                  "url": "https://ssl.gstatic.com/colaboratory-static/widgets/colab-cdn-widget-manager/2b70e893a8ba7c0f/manager.min.js"
                }
              }
            }
          }
        }
      ]
    },
    {
      "cell_type": "markdown",
      "source": [
        "# Interpretasi Hasil\n",
        "\n",
        "## 1. Hasil Regresi Multivariat\n",
        "- **R-squared = 0.660** → artinya 66% variasi Solar Output dapat dijelaskan oleh kombinasi Irradiance, Temperature, dan Humidity.\n",
        "- **Koefisien terbesar adalah Irradiance (0.1764)** → ini berarti setiap kenaikan 1 kWh/m² irradiance akan meningkatkan Solar Output sebesar ±0.176 MWh.\n",
        "- **P-value Irradiance = 0.000 (signifikan)** → pengaruhnya nyata terhadap Solar Output.\n",
        "- **Temperature & Humidity memiliki p-value > 0.05** → artinya kontribusinya terhadap model tidak signifikan secara statistik.\n",
        "- Adjusted R² (0.650) cukup tinggi → model cukup baik untuk menjelaskan data.\n",
        "\n",
        "## 2. Evaluasi Model\n",
        "| Metrik | Nilai |\n",
        "|-------|-------|\n",
        "| **MAE** | 0.142 |\n",
        "| **RMSE** | 0.173 |\n",
        "| **MAPE** | 16.43% |\n",
        "\n",
        "Interpretasi:\n",
        "- MAE & RMSE kecil → selisih rata-rata prediksi vs aktual rendah.\n",
        "- MAPE = 16.43% → model memiliki akurasi sekitar 83.5% (cukup baik, walau bisa ditingkatkan).\n",
        "\n",
        "## 3. Visualisasi Dashboard\n",
        "- **Scatter Plot** menunjukkan bahwa sebagian besar titik mendekati garis trendline → prediksi model cukup mendekati nilai aktual.\n",
        "- **Time Series Chart** memperlihatkan pola Predicted vs Actual hampir sejajar → artinya model mengikuti tren data dengan baik.\n",
        "\n",
        "## 4. Kesimpulan\n",
        "- Variabel paling penting dalam memprediksi Solar Output adalah **Irradiance**.\n",
        "- Model multivariat meningkatkan akurasi dibanding hanya pakai satu variabel.\n",
        "- Dashboard membantu memudahkan analisis interaktif: user bisa memfilter tanggal dan melihat perbandingan hasil prediksi vs aktual."
      ],
      "metadata": {
        "id": "f6pzu0ZaW6yy"
      }
    }
  ],
  "metadata": {
    "colab": {
      "provenance": []
    },
    "kernelspec": {
      "display_name": "Python 3",
      "name": "python3"
    },
    "language_info": {
      "name": "python"
    },
    "widgets": {
      "application/vnd.jupyter.widget-state+json": {
        "b817dbe7256746abaac69e6e1cec3f0e": {
          "model_module": "@jupyter-widgets/controls",
          "model_name": "VBoxModel",
          "model_module_version": "1.5.0",
          "state": {
            "_dom_classes": [
              "widget-interact"
            ],
            "_model_module": "@jupyter-widgets/controls",
            "_model_module_version": "1.5.0",
            "_model_name": "VBoxModel",
            "_view_count": null,
            "_view_module": "@jupyter-widgets/controls",
            "_view_module_version": "1.5.0",
            "_view_name": "VBoxView",
            "box_style": "",
            "children": [
              "IPY_MODEL_0dd0fc087f3e4686aca3bc2e16a32471",
              "IPY_MODEL_3d1f41c9c3284f8eaef83b9dd4030474"
            ],
            "layout": "IPY_MODEL_154d7f77e0774437990de7199d6e9584"
          }
        },
        "0dd0fc087f3e4686aca3bc2e16a32471": {
          "model_module": "@jupyter-widgets/controls",
          "model_name": "DropdownModel",
          "model_module_version": "1.5.0",
          "state": {
            "_dom_classes": [],
            "_model_module": "@jupyter-widgets/controls",
            "_model_module_version": "1.5.0",
            "_model_name": "DropdownModel",
            "_options_labels": [
              "All",
              "2023-01-01",
              "2023-01-02",
              "2023-01-03",
              "2023-01-04",
              "2023-01-05",
              "2023-01-06",
              "2023-01-07",
              "2023-01-08",
              "2023-01-09",
              "2023-01-10",
              "2023-01-11",
              "2023-01-12",
              "2023-01-13",
              "2023-01-14",
              "2023-01-15",
              "2023-01-16",
              "2023-01-17",
              "2023-01-18",
              "2023-01-19",
              "2023-01-20",
              "2023-01-21",
              "2023-01-22",
              "2023-01-23",
              "2023-01-24",
              "2023-01-25",
              "2023-01-26",
              "2023-01-27",
              "2023-01-28",
              "2023-01-29",
              "2023-01-30",
              "2023-01-31",
              "2023-02-01",
              "2023-02-02",
              "2023-02-03",
              "2023-02-04",
              "2023-02-05",
              "2023-02-06",
              "2023-02-07",
              "2023-02-08",
              "2023-02-09",
              "2023-02-10",
              "2023-02-11",
              "2023-02-12",
              "2023-02-13",
              "2023-02-14",
              "2023-02-15",
              "2023-02-16",
              "2023-02-17",
              "2023-02-18",
              "2023-02-19",
              "2023-02-20",
              "2023-02-21",
              "2023-02-22",
              "2023-02-23",
              "2023-02-24",
              "2023-02-25",
              "2023-02-26",
              "2023-02-27",
              "2023-02-28",
              "2023-03-01",
              "2023-03-02",
              "2023-03-03",
              "2023-03-04",
              "2023-03-05",
              "2023-03-06",
              "2023-03-07",
              "2023-03-08",
              "2023-03-09",
              "2023-03-10",
              "2023-03-11",
              "2023-03-12",
              "2023-03-13",
              "2023-03-14",
              "2023-03-15",
              "2023-03-16",
              "2023-03-17",
              "2023-03-18",
              "2023-03-19",
              "2023-03-20",
              "2023-03-21",
              "2023-03-22",
              "2023-03-23",
              "2023-03-24",
              "2023-03-25",
              "2023-03-26",
              "2023-03-27",
              "2023-03-28",
              "2023-03-29",
              "2023-03-30",
              "2023-03-31",
              "2023-04-01",
              "2023-04-02",
              "2023-04-03",
              "2023-04-04",
              "2023-04-05",
              "2023-04-06",
              "2023-04-07",
              "2023-04-08",
              "2023-04-09",
              "2023-04-10"
            ],
            "_view_count": null,
            "_view_module": "@jupyter-widgets/controls",
            "_view_module_version": "1.5.0",
            "_view_name": "DropdownView",
            "description": "Tanggal:",
            "description_tooltip": null,
            "disabled": false,
            "index": 0,
            "layout": "IPY_MODEL_6c73b095e355430ea7ffa8c8a4a51f0d",
            "style": "IPY_MODEL_5b14648fbba34edeb54a7654d4029248"
          }
        },
        "3d1f41c9c3284f8eaef83b9dd4030474": {
          "model_module": "@jupyter-widgets/output",
          "model_name": "OutputModel",
          "model_module_version": "1.0.0",
          "state": {
            "_dom_classes": [],
            "_model_module": "@jupyter-widgets/output",
            "_model_module_version": "1.0.0",
            "_model_name": "OutputModel",
            "_view_count": null,
            "_view_module": "@jupyter-widgets/output",
            "_view_module_version": "1.0.0",
            "_view_name": "OutputView",
            "layout": "IPY_MODEL_2d833a7d39cf4e18a864e43b8c6ecb83",
            "msg_id": "",
            "outputs": [
              {
                "output_type": "display_data",
                "data": {
                  "text/html": "<html>\n<head><meta charset=\"utf-8\" /></head>\n<body>\n    <div>            <script src=\"https://cdnjs.cloudflare.com/ajax/libs/mathjax/2.7.5/MathJax.js?config=TeX-AMS-MML_SVG\"></script><script type=\"text/javascript\">if (window.MathJax && window.MathJax.Hub && window.MathJax.Hub.Config) {window.MathJax.Hub.Config({SVG: {font: \"STIX-Web\"}});}</script>                <script type=\"text/javascript\">window.PlotlyConfig = {MathJaxConfig: 'local'};</script>\n        <script charset=\"utf-8\" src=\"https://cdn.plot.ly/plotly-2.35.2.min.js\"></script>                <div id=\"bb8f45b4-7281-450f-a709-f9e0150ef1ab\" class=\"plotly-graph-div\" style=\"height:525px; width:100%;\"></div>            <script type=\"text/javascript\">                                    window.PLOTLYENV=window.PLOTLYENV || {};                                    if (document.getElementById(\"bb8f45b4-7281-450f-a709-f9e0150ef1ab\")) {                    Plotly.newPlot(                        \"bb8f45b4-7281-450f-a709-f9e0150ef1ab\",                        [{\"hovertemplate\":\"Actual=%{x}\\u003cbr\\u003ePredicted=%{y}\\u003cextra\\u003e\\u003c\\u002fextra\\u003e\",\"legendgroup\":\"\",\"marker\":{\"color\":\"#636efa\",\"symbol\":\"circle\"},\"mode\":\"markers\",\"name\":\"\",\"orientation\":\"v\",\"showlegend\":false,\"x\":[0.9832152437189554,0.8464845016092507,1.3437652824548605,1.578983010009101,0.9255736687901696,0.9532243895770022,1.7292968238099025,1.1119161409787068,0.968577160453522,1.1223294825890109,0.8174384515108174,1.080036444326361,1.237671951267416,0.5887178538027884,0.743620411676956,0.8355145095542601,0.8325412581586656,1.0322208484598911,0.7924260478413251,0.5502802787258757,1.4590938236750095,1.051298514941422,0.8566143247596827,0.991052999273055,0.6354817063425048,0.7904390543554134,0.8863241014733227,1.2710419442962888,0.9446323564347896,1.038160976914873,0.8170386617617982,1.376232581055515,1.0111117442173652,0.5472543790108075,1.441787420314507,0.6043354287082656,0.8975596391429241,0.3478217945054687,0.6841304761855957,0.946313460199942,1.0570958948853368,1.1001479266553738,1.0142988295052724,0.8082802562489875,0.4622357417661073,0.8304567249531147,0.572191500412599,1.0356439129903638,0.9593966426200512,0.4283985230488104,1.1594067039380394,1.1795465592650154,0.9684553245486164,1.1515151806595751,1.3054966151682477,1.078878162807298,0.7445321158347304,0.8495045594606081,1.1639227414886872,1.1272173494262432,0.9601170314946476,1.2508500896013706,0.6463474781068201,0.7214803571955871,1.381786545060482,1.3266279141940798,1.0232154598879832,1.3035783495239663,1.1280260272240563,0.6518621168473694,1.1133207165043126,1.5610106281888807,1.279480909826023,1.6612472619612433,0.644712960275388,1.0931012387349572,1.200578247815587,0.94696619600791,1.4654888196041853,0.2420696685487018,0.7661540652125912,0.9872552423647196,1.0185890685604937,0.7393679301817536,0.6056253868213042,0.8795516442198806,1.3429718304660545,1.4738595007410826,1.0311567065070983,1.038599498801526,0.8494403305347406,1.388977331461168,0.5253374304326659,1.2679931091915404,1.1182555782046102,0.4671103851394235,0.7462091773011974,1.3490910564870493,0.9786260679422149,1.1771871223821484],\"xaxis\":\"x\",\"y\":[1.1616559113310918,0.9871653463560507,1.1972913403278889,1.4322077466367815,0.9493864250496652,0.947432987668528,1.4236077939648304,1.2219490232132015,0.8941151039896752,1.1823303489717278,0.9126641553875202,0.9006169099132905,1.0861860702515371,0.4960400523424576,0.5609801858285853,0.8705385509220218,0.7456846870884591,1.1083010461498697,0.7659496070956445,0.6385915307679738,1.4116249425500864,0.9546905161691602,1.0283325355490336,0.6426564805786635,0.8664703362021282,1.035953674530208,0.7209505343039474,1.1154251237330972,0.8540058594967345,0.9478506342927365,0.8662653609613198,1.5081396002414877,1.022306703020858,0.730576644347517,1.2536659010629583,0.6861057097435576,1.0678539093605235,0.5025713149419592,0.6563715980263867,1.0835842235232107,1.2068533792747302,1.0522240815483759,1.0019258556093853,0.9410996566363655,0.6179398838154704,0.8193027111590815,0.9025574213574301,1.3037377076828656,1.1139117942043288,0.5510275673197513,1.094538556022043,0.9179270031899841,0.8550556908269483,1.1830948158691665,1.279826271726742,1.2667217628702696,0.788049012217732,0.928277398730821,1.11663736308337,1.2747183771563588,0.8932163502575743,0.962052685592626,0.6985417060153202,0.7018337589756807,1.223720729752405,1.3664093792448486,1.00095207643809,1.2607737890592143,1.1126815251585036,0.8533183026089176,1.1276664398778964,1.422886423666007,1.0148770165058432,1.4288556168051754,0.3170946805227446,1.2310879182495456,1.0415051188314843,0.9240614856760582,1.0441804178332013,0.4688453043358474,0.9552207181930841,1.1220940687350032,1.4251857045564111,0.8700559099563334,0.8168167012031803,0.8688104429400283,1.255226365022301,1.1081951101971959,0.8853551221008132,1.1615206040154704,1.0454826405550395,1.2645444565088473,0.826980383899405,0.94492784034761,0.9143763019640511,0.6236801336471327,1.1074412885850096,1.0870423896823802,1.0227873268941725,0.9675799215198448],\"yaxis\":\"y\",\"type\":\"scatter\"},{\"hovertemplate\":\"\\u003cb\\u003eOLS trendline\\u003c\\u002fb\\u003e\\u003cbr\\u003ePredicted = 0.660205 * Solar Output + 0.33647\\u003cbr\\u003eR\\u003csup\\u003e2\\u003c\\u002fsup\\u003e=0.660205\\u003cbr\\u003e\\u003cbr\\u003eActual=%{x}\\u003cbr\\u003ePredicted=%{y} \\u003cb\\u003e(trend)\\u003c\\u002fb\\u003e\\u003cextra\\u003e\\u003c\\u002fextra\\u003e\",\"legendgroup\":\"\",\"marker\":{\"color\":\"#636efa\",\"symbol\":\"circle\"},\"mode\":\"lines\",\"name\":\"\",\"showlegend\":false,\"x\":[0.2420696685487018,0.3478217945054687,0.4283985230488104,0.4622357417661073,0.4671103851394235,0.5253374304326659,0.5472543790108075,0.5502802787258757,0.572191500412599,0.5887178538027884,0.6043354287082656,0.6056253868213042,0.6354817063425048,0.644712960275388,0.6463474781068201,0.6518621168473694,0.6841304761855957,0.7214803571955871,0.7393679301817536,0.743620411676956,0.7445321158347304,0.7462091773011974,0.7661540652125912,0.7904390543554134,0.7924260478413251,0.8082802562489875,0.8170386617617982,0.8174384515108174,0.8304567249531147,0.8325412581586656,0.8355145095542601,0.8464845016092507,0.8494403305347406,0.8495045594606081,0.8566143247596827,0.8795516442198806,0.8863241014733227,0.8975596391429241,0.9255736687901696,0.9446323564347896,0.946313460199942,0.94696619600791,0.9532243895770022,0.9593966426200512,0.9601170314946476,0.9684553245486164,0.968577160453522,0.9786260679422149,0.9832152437189554,0.9872552423647196,0.991052999273055,1.0111117442173652,1.0142988295052724,1.0185890685604937,1.0232154598879832,1.0311567065070983,1.0322208484598911,1.0356439129903638,1.038160976914873,1.038599498801526,1.051298514941422,1.0570958948853368,1.078878162807298,1.080036444326361,1.0931012387349572,1.1001479266553738,1.1119161409787068,1.1133207165043126,1.1182555782046102,1.1223294825890109,1.1272173494262432,1.1280260272240563,1.1515151806595751,1.1594067039380394,1.1639227414886872,1.1771871223821484,1.1795465592650154,1.200578247815587,1.237671951267416,1.2508500896013706,1.2679931091915404,1.2710419442962888,1.279480909826023,1.3035783495239663,1.3054966151682477,1.3266279141940798,1.3429718304660545,1.3437652824548605,1.3490910564870493,1.376232581055515,1.381786545060482,1.388977331461168,1.441787420314507,1.4590938236750095,1.4654888196041853,1.4738595007410826,1.5610106281888807,1.578983010009101,1.6612472619612433,1.7292968238099025],\"xaxis\":\"x\",\"y\":[0.4962855489572342,0.5661036095226324,0.6193007520169644,0.641640246040325,0.6448585089659521,0.6833002834272026,0.6977699579551925,0.6997676714541894,0.7142335650610083,0.7251443428017144,0.7354551406298451,0.7363067771605355,0.7560180624489584,0.7621125805529642,0.763191697061665,0.7668324879970772,0.7881362135367731,0.8127947840465712,0.8246042454906534,0.8274117541615112,0.8280136656174686,0.8291208696379868,0.8422885802591147,0.8583216465210333,0.8596334691466998,0.8701004935474683,0.8758828348575591,0.8761467779665786,0.8847415045068545,0.8861177233230628,0.8880806781491306,0.8953231194974056,0.8972745719251816,0.8973169761699731,0.9020108773068587,0.9171542055831592,0.9216254143311582,0.9290431701673079,0.9475381668484322,0.9601208038047149,0.9612306765702054,0.9616616158800453,0.9657933052780956,0.9698682563288266,0.9703438605176047,0.9758488415682176,0.9759292782167557,0.9825636151183936,0.9855934109681406,0.98826063744309,0.9907679347616065,1.0040108143417321,1.0061149433286913,1.0089473797216952,1.0120017454564696,1.0172445945472275,1.0179471461662903,1.0202070697805494,1.0218688474511015,1.0221583617030807,1.0305423130416922,1.0343697710751159,1.0487505287881944,1.0495152318002432,1.0581406717055057,1.062792928854589,1.0705623603713506,1.0714896678673296,1.0747476872211352,1.0774372984272873,1.0806642915471891,1.0811981845063594,1.0967058362188313,1.101915857721702,1.1048973673639353,1.1136545752233855,1.115212286765332,1.1290975083789072,1.153586949236611,1.1622872193448015,1.1736051230672249,1.1756179786204481,1.1811894241222167,1.1970986693414556,1.198365117516575,1.2123161024434808,1.2231064343240807,1.2236302751311472,1.2271463766806234,1.2450653413256754,1.2487320949891938,1.2534794866458037,1.288344960494848,1.299770730965758,1.303992737937809,1.3095191017560497,1.3670566939268267,1.3789221465697512,1.433233400109088,1.4781600470924388],\"yaxis\":\"y\",\"type\":\"scatter\"}],                        {\"template\":{\"data\":{\"histogram2dcontour\":[{\"type\":\"histogram2dcontour\",\"colorbar\":{\"outlinewidth\":0,\"ticks\":\"\"},\"colorscale\":[[0.0,\"#0d0887\"],[0.1111111111111111,\"#46039f\"],[0.2222222222222222,\"#7201a8\"],[0.3333333333333333,\"#9c179e\"],[0.4444444444444444,\"#bd3786\"],[0.5555555555555556,\"#d8576b\"],[0.6666666666666666,\"#ed7953\"],[0.7777777777777778,\"#fb9f3a\"],[0.8888888888888888,\"#fdca26\"],[1.0,\"#f0f921\"]]}],\"choropleth\":[{\"type\":\"choropleth\",\"colorbar\":{\"outlinewidth\":0,\"ticks\":\"\"}}],\"histogram2d\":[{\"type\":\"histogram2d\",\"colorbar\":{\"outlinewidth\":0,\"ticks\":\"\"},\"colorscale\":[[0.0,\"#0d0887\"],[0.1111111111111111,\"#46039f\"],[0.2222222222222222,\"#7201a8\"],[0.3333333333333333,\"#9c179e\"],[0.4444444444444444,\"#bd3786\"],[0.5555555555555556,\"#d8576b\"],[0.6666666666666666,\"#ed7953\"],[0.7777777777777778,\"#fb9f3a\"],[0.8888888888888888,\"#fdca26\"],[1.0,\"#f0f921\"]]}],\"heatmap\":[{\"type\":\"heatmap\",\"colorbar\":{\"outlinewidth\":0,\"ticks\":\"\"},\"colorscale\":[[0.0,\"#0d0887\"],[0.1111111111111111,\"#46039f\"],[0.2222222222222222,\"#7201a8\"],[0.3333333333333333,\"#9c179e\"],[0.4444444444444444,\"#bd3786\"],[0.5555555555555556,\"#d8576b\"],[0.6666666666666666,\"#ed7953\"],[0.7777777777777778,\"#fb9f3a\"],[0.8888888888888888,\"#fdca26\"],[1.0,\"#f0f921\"]]}],\"heatmapgl\":[{\"type\":\"heatmapgl\",\"colorbar\":{\"outlinewidth\":0,\"ticks\":\"\"},\"colorscale\":[[0.0,\"#0d0887\"],[0.1111111111111111,\"#46039f\"],[0.2222222222222222,\"#7201a8\"],[0.3333333333333333,\"#9c179e\"],[0.4444444444444444,\"#bd3786\"],[0.5555555555555556,\"#d8576b\"],[0.6666666666666666,\"#ed7953\"],[0.7777777777777778,\"#fb9f3a\"],[0.8888888888888888,\"#fdca26\"],[1.0,\"#f0f921\"]]}],\"contourcarpet\":[{\"type\":\"contourcarpet\",\"colorbar\":{\"outlinewidth\":0,\"ticks\":\"\"}}],\"contour\":[{\"type\":\"contour\",\"colorbar\":{\"outlinewidth\":0,\"ticks\":\"\"},\"colorscale\":[[0.0,\"#0d0887\"],[0.1111111111111111,\"#46039f\"],[0.2222222222222222,\"#7201a8\"],[0.3333333333333333,\"#9c179e\"],[0.4444444444444444,\"#bd3786\"],[0.5555555555555556,\"#d8576b\"],[0.6666666666666666,\"#ed7953\"],[0.7777777777777778,\"#fb9f3a\"],[0.8888888888888888,\"#fdca26\"],[1.0,\"#f0f921\"]]}],\"surface\":[{\"type\":\"surface\",\"colorbar\":{\"outlinewidth\":0,\"ticks\":\"\"},\"colorscale\":[[0.0,\"#0d0887\"],[0.1111111111111111,\"#46039f\"],[0.2222222222222222,\"#7201a8\"],[0.3333333333333333,\"#9c179e\"],[0.4444444444444444,\"#bd3786\"],[0.5555555555555556,\"#d8576b\"],[0.6666666666666666,\"#ed7953\"],[0.7777777777777778,\"#fb9f3a\"],[0.8888888888888888,\"#fdca26\"],[1.0,\"#f0f921\"]]}],\"mesh3d\":[{\"type\":\"mesh3d\",\"colorbar\":{\"outlinewidth\":0,\"ticks\":\"\"}}],\"scatter\":[{\"fillpattern\":{\"fillmode\":\"overlay\",\"size\":10,\"solidity\":0.2},\"type\":\"scatter\"}],\"parcoords\":[{\"type\":\"parcoords\",\"line\":{\"colorbar\":{\"outlinewidth\":0,\"ticks\":\"\"}}}],\"scatterpolargl\":[{\"type\":\"scatterpolargl\",\"marker\":{\"colorbar\":{\"outlinewidth\":0,\"ticks\":\"\"}}}],\"bar\":[{\"error_x\":{\"color\":\"#2a3f5f\"},\"error_y\":{\"color\":\"#2a3f5f\"},\"marker\":{\"line\":{\"color\":\"#E5ECF6\",\"width\":0.5},\"pattern\":{\"fillmode\":\"overlay\",\"size\":10,\"solidity\":0.2}},\"type\":\"bar\"}],\"scattergeo\":[{\"type\":\"scattergeo\",\"marker\":{\"colorbar\":{\"outlinewidth\":0,\"ticks\":\"\"}}}],\"scatterpolar\":[{\"type\":\"scatterpolar\",\"marker\":{\"colorbar\":{\"outlinewidth\":0,\"ticks\":\"\"}}}],\"histogram\":[{\"marker\":{\"pattern\":{\"fillmode\":\"overlay\",\"size\":10,\"solidity\":0.2}},\"type\":\"histogram\"}],\"scattergl\":[{\"type\":\"scattergl\",\"marker\":{\"colorbar\":{\"outlinewidth\":0,\"ticks\":\"\"}}}],\"scatter3d\":[{\"type\":\"scatter3d\",\"line\":{\"colorbar\":{\"outlinewidth\":0,\"ticks\":\"\"}},\"marker\":{\"colorbar\":{\"outlinewidth\":0,\"ticks\":\"\"}}}],\"scattermapbox\":[{\"type\":\"scattermapbox\",\"marker\":{\"colorbar\":{\"outlinewidth\":0,\"ticks\":\"\"}}}],\"scatterternary\":[{\"type\":\"scatterternary\",\"marker\":{\"colorbar\":{\"outlinewidth\":0,\"ticks\":\"\"}}}],\"scattercarpet\":[{\"type\":\"scattercarpet\",\"marker\":{\"colorbar\":{\"outlinewidth\":0,\"ticks\":\"\"}}}],\"carpet\":[{\"aaxis\":{\"endlinecolor\":\"#2a3f5f\",\"gridcolor\":\"white\",\"linecolor\":\"white\",\"minorgridcolor\":\"white\",\"startlinecolor\":\"#2a3f5f\"},\"baxis\":{\"endlinecolor\":\"#2a3f5f\",\"gridcolor\":\"white\",\"linecolor\":\"white\",\"minorgridcolor\":\"white\",\"startlinecolor\":\"#2a3f5f\"},\"type\":\"carpet\"}],\"table\":[{\"cells\":{\"fill\":{\"color\":\"#EBF0F8\"},\"line\":{\"color\":\"white\"}},\"header\":{\"fill\":{\"color\":\"#C8D4E3\"},\"line\":{\"color\":\"white\"}},\"type\":\"table\"}],\"barpolar\":[{\"marker\":{\"line\":{\"color\":\"#E5ECF6\",\"width\":0.5},\"pattern\":{\"fillmode\":\"overlay\",\"size\":10,\"solidity\":0.2}},\"type\":\"barpolar\"}],\"pie\":[{\"automargin\":true,\"type\":\"pie\"}]},\"layout\":{\"autotypenumbers\":\"strict\",\"colorway\":[\"#636efa\",\"#EF553B\",\"#00cc96\",\"#ab63fa\",\"#FFA15A\",\"#19d3f3\",\"#FF6692\",\"#B6E880\",\"#FF97FF\",\"#FECB52\"],\"font\":{\"color\":\"#2a3f5f\"},\"hovermode\":\"closest\",\"hoverlabel\":{\"align\":\"left\"},\"paper_bgcolor\":\"white\",\"plot_bgcolor\":\"#E5ECF6\",\"polar\":{\"bgcolor\":\"#E5ECF6\",\"angularaxis\":{\"gridcolor\":\"white\",\"linecolor\":\"white\",\"ticks\":\"\"},\"radialaxis\":{\"gridcolor\":\"white\",\"linecolor\":\"white\",\"ticks\":\"\"}},\"ternary\":{\"bgcolor\":\"#E5ECF6\",\"aaxis\":{\"gridcolor\":\"white\",\"linecolor\":\"white\",\"ticks\":\"\"},\"baxis\":{\"gridcolor\":\"white\",\"linecolor\":\"white\",\"ticks\":\"\"},\"caxis\":{\"gridcolor\":\"white\",\"linecolor\":\"white\",\"ticks\":\"\"}},\"coloraxis\":{\"colorbar\":{\"outlinewidth\":0,\"ticks\":\"\"}},\"colorscale\":{\"sequential\":[[0.0,\"#0d0887\"],[0.1111111111111111,\"#46039f\"],[0.2222222222222222,\"#7201a8\"],[0.3333333333333333,\"#9c179e\"],[0.4444444444444444,\"#bd3786\"],[0.5555555555555556,\"#d8576b\"],[0.6666666666666666,\"#ed7953\"],[0.7777777777777778,\"#fb9f3a\"],[0.8888888888888888,\"#fdca26\"],[1.0,\"#f0f921\"]],\"sequentialminus\":[[0.0,\"#0d0887\"],[0.1111111111111111,\"#46039f\"],[0.2222222222222222,\"#7201a8\"],[0.3333333333333333,\"#9c179e\"],[0.4444444444444444,\"#bd3786\"],[0.5555555555555556,\"#d8576b\"],[0.6666666666666666,\"#ed7953\"],[0.7777777777777778,\"#fb9f3a\"],[0.8888888888888888,\"#fdca26\"],[1.0,\"#f0f921\"]],\"diverging\":[[0,\"#8e0152\"],[0.1,\"#c51b7d\"],[0.2,\"#de77ae\"],[0.3,\"#f1b6da\"],[0.4,\"#fde0ef\"],[0.5,\"#f7f7f7\"],[0.6,\"#e6f5d0\"],[0.7,\"#b8e186\"],[0.8,\"#7fbc41\"],[0.9,\"#4d9221\"],[1,\"#276419\"]]},\"xaxis\":{\"gridcolor\":\"white\",\"linecolor\":\"white\",\"ticks\":\"\",\"title\":{\"standoff\":15},\"zerolinecolor\":\"white\",\"automargin\":true,\"zerolinewidth\":2},\"yaxis\":{\"gridcolor\":\"white\",\"linecolor\":\"white\",\"ticks\":\"\",\"title\":{\"standoff\":15},\"zerolinecolor\":\"white\",\"automargin\":true,\"zerolinewidth\":2},\"scene\":{\"xaxis\":{\"backgroundcolor\":\"#E5ECF6\",\"gridcolor\":\"white\",\"linecolor\":\"white\",\"showbackground\":true,\"ticks\":\"\",\"zerolinecolor\":\"white\",\"gridwidth\":2},\"yaxis\":{\"backgroundcolor\":\"#E5ECF6\",\"gridcolor\":\"white\",\"linecolor\":\"white\",\"showbackground\":true,\"ticks\":\"\",\"zerolinecolor\":\"white\",\"gridwidth\":2},\"zaxis\":{\"backgroundcolor\":\"#E5ECF6\",\"gridcolor\":\"white\",\"linecolor\":\"white\",\"showbackground\":true,\"ticks\":\"\",\"zerolinecolor\":\"white\",\"gridwidth\":2}},\"shapedefaults\":{\"line\":{\"color\":\"#2a3f5f\"}},\"annotationdefaults\":{\"arrowcolor\":\"#2a3f5f\",\"arrowhead\":0,\"arrowwidth\":1},\"geo\":{\"bgcolor\":\"white\",\"landcolor\":\"#E5ECF6\",\"subunitcolor\":\"white\",\"showland\":true,\"showlakes\":true,\"lakecolor\":\"white\"},\"title\":{\"x\":0.05},\"mapbox\":{\"style\":\"light\"}}},\"xaxis\":{\"anchor\":\"y\",\"domain\":[0.0,1.0],\"title\":{\"text\":\"Actual\"}},\"yaxis\":{\"anchor\":\"x\",\"domain\":[0.0,1.0],\"title\":{\"text\":\"Predicted\"}},\"legend\":{\"tracegroupgap\":0},\"title\":{\"text\":\"Prediksi vs Aktual Solar Output\"}},                        {\"responsive\": true}                    ).then(function(){\n                            \nvar gd = document.getElementById('bb8f45b4-7281-450f-a709-f9e0150ef1ab');\nvar x = new MutationObserver(function (mutations, observer) {{\n        var display = window.getComputedStyle(gd).display;\n        if (!display || display === 'none') {{\n            console.log([gd, 'removed!']);\n            Plotly.purge(gd);\n            observer.disconnect();\n        }}\n}});\n\n// Listen for the removal of the full notebook cells\nvar notebookContainer = gd.closest('#notebook-container');\nif (notebookContainer) {{\n    x.observe(notebookContainer, {childList: true});\n}}\n\n// Listen for the clearing of the current output cell\nvar outputEl = gd.closest('.output');\nif (outputEl) {{\n    x.observe(outputEl, {childList: true});\n}}\n\n                        })                };                            </script>        </div>\n</body>\n</html>"
                },
                "metadata": {}
              },
              {
                "output_type": "display_data",
                "data": {
                  "text/html": "<html>\n<head><meta charset=\"utf-8\" /></head>\n<body>\n    <div>            <script src=\"https://cdnjs.cloudflare.com/ajax/libs/mathjax/2.7.5/MathJax.js?config=TeX-AMS-MML_SVG\"></script><script type=\"text/javascript\">if (window.MathJax && window.MathJax.Hub && window.MathJax.Hub.Config) {window.MathJax.Hub.Config({SVG: {font: \"STIX-Web\"}});}</script>                <script type=\"text/javascript\">window.PlotlyConfig = {MathJaxConfig: 'local'};</script>\n        <script charset=\"utf-8\" src=\"https://cdn.plot.ly/plotly-2.35.2.min.js\"></script>                <div id=\"a26d8336-647b-439a-be9b-8ecd70c356e2\" class=\"plotly-graph-div\" style=\"height:525px; width:100%;\"></div>            <script type=\"text/javascript\">                                    window.PLOTLYENV=window.PLOTLYENV || {};                                    if (document.getElementById(\"a26d8336-647b-439a-be9b-8ecd70c356e2\")) {                    Plotly.newPlot(                        \"a26d8336-647b-439a-be9b-8ecd70c356e2\",                        [{\"hovertemplate\":\"variable=Solar Output\\u003cbr\\u003eDate=%{x}\\u003cbr\\u003evalue=%{y}\\u003cextra\\u003e\\u003c\\u002fextra\\u003e\",\"legendgroup\":\"Solar Output\",\"line\":{\"color\":\"#636efa\",\"dash\":\"solid\"},\"marker\":{\"symbol\":\"circle\"},\"mode\":\"lines\",\"name\":\"Solar Output\",\"orientation\":\"v\",\"showlegend\":true,\"x\":[\"2023-01-01T00:00:00\",\"2023-01-02T00:00:00\",\"2023-01-03T00:00:00\",\"2023-01-04T00:00:00\",\"2023-01-05T00:00:00\",\"2023-01-06T00:00:00\",\"2023-01-07T00:00:00\",\"2023-01-08T00:00:00\",\"2023-01-09T00:00:00\",\"2023-01-10T00:00:00\",\"2023-01-11T00:00:00\",\"2023-01-12T00:00:00\",\"2023-01-13T00:00:00\",\"2023-01-14T00:00:00\",\"2023-01-15T00:00:00\",\"2023-01-16T00:00:00\",\"2023-01-17T00:00:00\",\"2023-01-18T00:00:00\",\"2023-01-19T00:00:00\",\"2023-01-20T00:00:00\",\"2023-01-21T00:00:00\",\"2023-01-22T00:00:00\",\"2023-01-23T00:00:00\",\"2023-01-24T00:00:00\",\"2023-01-25T00:00:00\",\"2023-01-26T00:00:00\",\"2023-01-27T00:00:00\",\"2023-01-28T00:00:00\",\"2023-01-29T00:00:00\",\"2023-01-30T00:00:00\",\"2023-01-31T00:00:00\",\"2023-02-01T00:00:00\",\"2023-02-02T00:00:00\",\"2023-02-03T00:00:00\",\"2023-02-04T00:00:00\",\"2023-02-05T00:00:00\",\"2023-02-06T00:00:00\",\"2023-02-07T00:00:00\",\"2023-02-08T00:00:00\",\"2023-02-09T00:00:00\",\"2023-02-10T00:00:00\",\"2023-02-11T00:00:00\",\"2023-02-12T00:00:00\",\"2023-02-13T00:00:00\",\"2023-02-14T00:00:00\",\"2023-02-15T00:00:00\",\"2023-02-16T00:00:00\",\"2023-02-17T00:00:00\",\"2023-02-18T00:00:00\",\"2023-02-19T00:00:00\",\"2023-02-20T00:00:00\",\"2023-02-21T00:00:00\",\"2023-02-22T00:00:00\",\"2023-02-23T00:00:00\",\"2023-02-24T00:00:00\",\"2023-02-25T00:00:00\",\"2023-02-26T00:00:00\",\"2023-02-27T00:00:00\",\"2023-02-28T00:00:00\",\"2023-03-01T00:00:00\",\"2023-03-02T00:00:00\",\"2023-03-03T00:00:00\",\"2023-03-04T00:00:00\",\"2023-03-05T00:00:00\",\"2023-03-06T00:00:00\",\"2023-03-07T00:00:00\",\"2023-03-08T00:00:00\",\"2023-03-09T00:00:00\",\"2023-03-10T00:00:00\",\"2023-03-11T00:00:00\",\"2023-03-12T00:00:00\",\"2023-03-13T00:00:00\",\"2023-03-14T00:00:00\",\"2023-03-15T00:00:00\",\"2023-03-16T00:00:00\",\"2023-03-17T00:00:00\",\"2023-03-18T00:00:00\",\"2023-03-19T00:00:00\",\"2023-03-20T00:00:00\",\"2023-03-21T00:00:00\",\"2023-03-22T00:00:00\",\"2023-03-23T00:00:00\",\"2023-03-24T00:00:00\",\"2023-03-25T00:00:00\",\"2023-03-26T00:00:00\",\"2023-03-27T00:00:00\",\"2023-03-28T00:00:00\",\"2023-03-29T00:00:00\",\"2023-03-30T00:00:00\",\"2023-03-31T00:00:00\",\"2023-04-01T00:00:00\",\"2023-04-02T00:00:00\",\"2023-04-03T00:00:00\",\"2023-04-04T00:00:00\",\"2023-04-05T00:00:00\",\"2023-04-06T00:00:00\",\"2023-04-07T00:00:00\",\"2023-04-08T00:00:00\",\"2023-04-09T00:00:00\",\"2023-04-10T00:00:00\"],\"xaxis\":\"x\",\"y\":[0.9832152437189554,0.8464845016092507,1.3437652824548605,1.578983010009101,0.9255736687901696,0.9532243895770022,1.7292968238099025,1.1119161409787068,0.968577160453522,1.1223294825890109,0.8174384515108174,1.080036444326361,1.237671951267416,0.5887178538027884,0.743620411676956,0.8355145095542601,0.8325412581586656,1.0322208484598911,0.7924260478413251,0.5502802787258757,1.4590938236750095,1.051298514941422,0.8566143247596827,0.991052999273055,0.6354817063425048,0.7904390543554134,0.8863241014733227,1.2710419442962888,0.9446323564347896,1.038160976914873,0.8170386617617982,1.376232581055515,1.0111117442173652,0.5472543790108075,1.441787420314507,0.6043354287082656,0.8975596391429241,0.3478217945054687,0.6841304761855957,0.946313460199942,1.0570958948853368,1.1001479266553738,1.0142988295052724,0.8082802562489875,0.4622357417661073,0.8304567249531147,0.572191500412599,1.0356439129903638,0.9593966426200512,0.4283985230488104,1.1594067039380394,1.1795465592650154,0.9684553245486164,1.1515151806595751,1.3054966151682477,1.078878162807298,0.7445321158347304,0.8495045594606081,1.1639227414886872,1.1272173494262432,0.9601170314946476,1.2508500896013706,0.6463474781068201,0.7214803571955871,1.381786545060482,1.3266279141940798,1.0232154598879832,1.3035783495239663,1.1280260272240563,0.6518621168473694,1.1133207165043126,1.5610106281888807,1.279480909826023,1.6612472619612433,0.644712960275388,1.0931012387349572,1.200578247815587,0.94696619600791,1.4654888196041853,0.2420696685487018,0.7661540652125912,0.9872552423647196,1.0185890685604937,0.7393679301817536,0.6056253868213042,0.8795516442198806,1.3429718304660545,1.4738595007410826,1.0311567065070983,1.038599498801526,0.8494403305347406,1.388977331461168,0.5253374304326659,1.2679931091915404,1.1182555782046102,0.4671103851394235,0.7462091773011974,1.3490910564870493,0.9786260679422149,1.1771871223821484],\"yaxis\":\"y\",\"type\":\"scatter\"},{\"hovertemplate\":\"variable=Predicted\\u003cbr\\u003eDate=%{x}\\u003cbr\\u003evalue=%{y}\\u003cextra\\u003e\\u003c\\u002fextra\\u003e\",\"legendgroup\":\"Predicted\",\"line\":{\"color\":\"#EF553B\",\"dash\":\"solid\"},\"marker\":{\"symbol\":\"circle\"},\"mode\":\"lines\",\"name\":\"Predicted\",\"orientation\":\"v\",\"showlegend\":true,\"x\":[\"2023-01-01T00:00:00\",\"2023-01-02T00:00:00\",\"2023-01-03T00:00:00\",\"2023-01-04T00:00:00\",\"2023-01-05T00:00:00\",\"2023-01-06T00:00:00\",\"2023-01-07T00:00:00\",\"2023-01-08T00:00:00\",\"2023-01-09T00:00:00\",\"2023-01-10T00:00:00\",\"2023-01-11T00:00:00\",\"2023-01-12T00:00:00\",\"2023-01-13T00:00:00\",\"2023-01-14T00:00:00\",\"2023-01-15T00:00:00\",\"2023-01-16T00:00:00\",\"2023-01-17T00:00:00\",\"2023-01-18T00:00:00\",\"2023-01-19T00:00:00\",\"2023-01-20T00:00:00\",\"2023-01-21T00:00:00\",\"2023-01-22T00:00:00\",\"2023-01-23T00:00:00\",\"2023-01-24T00:00:00\",\"2023-01-25T00:00:00\",\"2023-01-26T00:00:00\",\"2023-01-27T00:00:00\",\"2023-01-28T00:00:00\",\"2023-01-29T00:00:00\",\"2023-01-30T00:00:00\",\"2023-01-31T00:00:00\",\"2023-02-01T00:00:00\",\"2023-02-02T00:00:00\",\"2023-02-03T00:00:00\",\"2023-02-04T00:00:00\",\"2023-02-05T00:00:00\",\"2023-02-06T00:00:00\",\"2023-02-07T00:00:00\",\"2023-02-08T00:00:00\",\"2023-02-09T00:00:00\",\"2023-02-10T00:00:00\",\"2023-02-11T00:00:00\",\"2023-02-12T00:00:00\",\"2023-02-13T00:00:00\",\"2023-02-14T00:00:00\",\"2023-02-15T00:00:00\",\"2023-02-16T00:00:00\",\"2023-02-17T00:00:00\",\"2023-02-18T00:00:00\",\"2023-02-19T00:00:00\",\"2023-02-20T00:00:00\",\"2023-02-21T00:00:00\",\"2023-02-22T00:00:00\",\"2023-02-23T00:00:00\",\"2023-02-24T00:00:00\",\"2023-02-25T00:00:00\",\"2023-02-26T00:00:00\",\"2023-02-27T00:00:00\",\"2023-02-28T00:00:00\",\"2023-03-01T00:00:00\",\"2023-03-02T00:00:00\",\"2023-03-03T00:00:00\",\"2023-03-04T00:00:00\",\"2023-03-05T00:00:00\",\"2023-03-06T00:00:00\",\"2023-03-07T00:00:00\",\"2023-03-08T00:00:00\",\"2023-03-09T00:00:00\",\"2023-03-10T00:00:00\",\"2023-03-11T00:00:00\",\"2023-03-12T00:00:00\",\"2023-03-13T00:00:00\",\"2023-03-14T00:00:00\",\"2023-03-15T00:00:00\",\"2023-03-16T00:00:00\",\"2023-03-17T00:00:00\",\"2023-03-18T00:00:00\",\"2023-03-19T00:00:00\",\"2023-03-20T00:00:00\",\"2023-03-21T00:00:00\",\"2023-03-22T00:00:00\",\"2023-03-23T00:00:00\",\"2023-03-24T00:00:00\",\"2023-03-25T00:00:00\",\"2023-03-26T00:00:00\",\"2023-03-27T00:00:00\",\"2023-03-28T00:00:00\",\"2023-03-29T00:00:00\",\"2023-03-30T00:00:00\",\"2023-03-31T00:00:00\",\"2023-04-01T00:00:00\",\"2023-04-02T00:00:00\",\"2023-04-03T00:00:00\",\"2023-04-04T00:00:00\",\"2023-04-05T00:00:00\",\"2023-04-06T00:00:00\",\"2023-04-07T00:00:00\",\"2023-04-08T00:00:00\",\"2023-04-09T00:00:00\",\"2023-04-10T00:00:00\"],\"xaxis\":\"x\",\"y\":[1.1616559113310918,0.9871653463560507,1.1972913403278889,1.4322077466367815,0.9493864250496652,0.947432987668528,1.4236077939648304,1.2219490232132015,0.8941151039896752,1.1823303489717278,0.9126641553875202,0.9006169099132905,1.0861860702515371,0.4960400523424576,0.5609801858285853,0.8705385509220218,0.7456846870884591,1.1083010461498697,0.7659496070956445,0.6385915307679738,1.4116249425500864,0.9546905161691602,1.0283325355490336,0.6426564805786635,0.8664703362021282,1.035953674530208,0.7209505343039474,1.1154251237330972,0.8540058594967345,0.9478506342927365,0.8662653609613198,1.5081396002414877,1.022306703020858,0.730576644347517,1.2536659010629583,0.6861057097435576,1.0678539093605235,0.5025713149419592,0.6563715980263867,1.0835842235232107,1.2068533792747302,1.0522240815483759,1.0019258556093853,0.9410996566363655,0.6179398838154704,0.8193027111590815,0.9025574213574301,1.3037377076828656,1.1139117942043288,0.5510275673197513,1.094538556022043,0.9179270031899841,0.8550556908269483,1.1830948158691665,1.279826271726742,1.2667217628702696,0.788049012217732,0.928277398730821,1.11663736308337,1.2747183771563588,0.8932163502575743,0.962052685592626,0.6985417060153202,0.7018337589756807,1.223720729752405,1.3664093792448486,1.00095207643809,1.2607737890592143,1.1126815251585036,0.8533183026089176,1.1276664398778964,1.422886423666007,1.0148770165058432,1.4288556168051754,0.3170946805227446,1.2310879182495456,1.0415051188314843,0.9240614856760582,1.0441804178332013,0.4688453043358474,0.9552207181930841,1.1220940687350032,1.4251857045564111,0.8700559099563334,0.8168167012031803,0.8688104429400283,1.255226365022301,1.1081951101971959,0.8853551221008132,1.1615206040154704,1.0454826405550395,1.2645444565088473,0.826980383899405,0.94492784034761,0.9143763019640511,0.6236801336471327,1.1074412885850096,1.0870423896823802,1.0227873268941725,0.9675799215198448],\"yaxis\":\"y\",\"type\":\"scatter\"}],                        {\"template\":{\"data\":{\"histogram2dcontour\":[{\"type\":\"histogram2dcontour\",\"colorbar\":{\"outlinewidth\":0,\"ticks\":\"\"},\"colorscale\":[[0.0,\"#0d0887\"],[0.1111111111111111,\"#46039f\"],[0.2222222222222222,\"#7201a8\"],[0.3333333333333333,\"#9c179e\"],[0.4444444444444444,\"#bd3786\"],[0.5555555555555556,\"#d8576b\"],[0.6666666666666666,\"#ed7953\"],[0.7777777777777778,\"#fb9f3a\"],[0.8888888888888888,\"#fdca26\"],[1.0,\"#f0f921\"]]}],\"choropleth\":[{\"type\":\"choropleth\",\"colorbar\":{\"outlinewidth\":0,\"ticks\":\"\"}}],\"histogram2d\":[{\"type\":\"histogram2d\",\"colorbar\":{\"outlinewidth\":0,\"ticks\":\"\"},\"colorscale\":[[0.0,\"#0d0887\"],[0.1111111111111111,\"#46039f\"],[0.2222222222222222,\"#7201a8\"],[0.3333333333333333,\"#9c179e\"],[0.4444444444444444,\"#bd3786\"],[0.5555555555555556,\"#d8576b\"],[0.6666666666666666,\"#ed7953\"],[0.7777777777777778,\"#fb9f3a\"],[0.8888888888888888,\"#fdca26\"],[1.0,\"#f0f921\"]]}],\"heatmap\":[{\"type\":\"heatmap\",\"colorbar\":{\"outlinewidth\":0,\"ticks\":\"\"},\"colorscale\":[[0.0,\"#0d0887\"],[0.1111111111111111,\"#46039f\"],[0.2222222222222222,\"#7201a8\"],[0.3333333333333333,\"#9c179e\"],[0.4444444444444444,\"#bd3786\"],[0.5555555555555556,\"#d8576b\"],[0.6666666666666666,\"#ed7953\"],[0.7777777777777778,\"#fb9f3a\"],[0.8888888888888888,\"#fdca26\"],[1.0,\"#f0f921\"]]}],\"heatmapgl\":[{\"type\":\"heatmapgl\",\"colorbar\":{\"outlinewidth\":0,\"ticks\":\"\"},\"colorscale\":[[0.0,\"#0d0887\"],[0.1111111111111111,\"#46039f\"],[0.2222222222222222,\"#7201a8\"],[0.3333333333333333,\"#9c179e\"],[0.4444444444444444,\"#bd3786\"],[0.5555555555555556,\"#d8576b\"],[0.6666666666666666,\"#ed7953\"],[0.7777777777777778,\"#fb9f3a\"],[0.8888888888888888,\"#fdca26\"],[1.0,\"#f0f921\"]]}],\"contourcarpet\":[{\"type\":\"contourcarpet\",\"colorbar\":{\"outlinewidth\":0,\"ticks\":\"\"}}],\"contour\":[{\"type\":\"contour\",\"colorbar\":{\"outlinewidth\":0,\"ticks\":\"\"},\"colorscale\":[[0.0,\"#0d0887\"],[0.1111111111111111,\"#46039f\"],[0.2222222222222222,\"#7201a8\"],[0.3333333333333333,\"#9c179e\"],[0.4444444444444444,\"#bd3786\"],[0.5555555555555556,\"#d8576b\"],[0.6666666666666666,\"#ed7953\"],[0.7777777777777778,\"#fb9f3a\"],[0.8888888888888888,\"#fdca26\"],[1.0,\"#f0f921\"]]}],\"surface\":[{\"type\":\"surface\",\"colorbar\":{\"outlinewidth\":0,\"ticks\":\"\"},\"colorscale\":[[0.0,\"#0d0887\"],[0.1111111111111111,\"#46039f\"],[0.2222222222222222,\"#7201a8\"],[0.3333333333333333,\"#9c179e\"],[0.4444444444444444,\"#bd3786\"],[0.5555555555555556,\"#d8576b\"],[0.6666666666666666,\"#ed7953\"],[0.7777777777777778,\"#fb9f3a\"],[0.8888888888888888,\"#fdca26\"],[1.0,\"#f0f921\"]]}],\"mesh3d\":[{\"type\":\"mesh3d\",\"colorbar\":{\"outlinewidth\":0,\"ticks\":\"\"}}],\"scatter\":[{\"fillpattern\":{\"fillmode\":\"overlay\",\"size\":10,\"solidity\":0.2},\"type\":\"scatter\"}],\"parcoords\":[{\"type\":\"parcoords\",\"line\":{\"colorbar\":{\"outlinewidth\":0,\"ticks\":\"\"}}}],\"scatterpolargl\":[{\"type\":\"scatterpolargl\",\"marker\":{\"colorbar\":{\"outlinewidth\":0,\"ticks\":\"\"}}}],\"bar\":[{\"error_x\":{\"color\":\"#2a3f5f\"},\"error_y\":{\"color\":\"#2a3f5f\"},\"marker\":{\"line\":{\"color\":\"#E5ECF6\",\"width\":0.5},\"pattern\":{\"fillmode\":\"overlay\",\"size\":10,\"solidity\":0.2}},\"type\":\"bar\"}],\"scattergeo\":[{\"type\":\"scattergeo\",\"marker\":{\"colorbar\":{\"outlinewidth\":0,\"ticks\":\"\"}}}],\"scatterpolar\":[{\"type\":\"scatterpolar\",\"marker\":{\"colorbar\":{\"outlinewidth\":0,\"ticks\":\"\"}}}],\"histogram\":[{\"marker\":{\"pattern\":{\"fillmode\":\"overlay\",\"size\":10,\"solidity\":0.2}},\"type\":\"histogram\"}],\"scattergl\":[{\"type\":\"scattergl\",\"marker\":{\"colorbar\":{\"outlinewidth\":0,\"ticks\":\"\"}}}],\"scatter3d\":[{\"type\":\"scatter3d\",\"line\":{\"colorbar\":{\"outlinewidth\":0,\"ticks\":\"\"}},\"marker\":{\"colorbar\":{\"outlinewidth\":0,\"ticks\":\"\"}}}],\"scattermapbox\":[{\"type\":\"scattermapbox\",\"marker\":{\"colorbar\":{\"outlinewidth\":0,\"ticks\":\"\"}}}],\"scatterternary\":[{\"type\":\"scatterternary\",\"marker\":{\"colorbar\":{\"outlinewidth\":0,\"ticks\":\"\"}}}],\"scattercarpet\":[{\"type\":\"scattercarpet\",\"marker\":{\"colorbar\":{\"outlinewidth\":0,\"ticks\":\"\"}}}],\"carpet\":[{\"aaxis\":{\"endlinecolor\":\"#2a3f5f\",\"gridcolor\":\"white\",\"linecolor\":\"white\",\"minorgridcolor\":\"white\",\"startlinecolor\":\"#2a3f5f\"},\"baxis\":{\"endlinecolor\":\"#2a3f5f\",\"gridcolor\":\"white\",\"linecolor\":\"white\",\"minorgridcolor\":\"white\",\"startlinecolor\":\"#2a3f5f\"},\"type\":\"carpet\"}],\"table\":[{\"cells\":{\"fill\":{\"color\":\"#EBF0F8\"},\"line\":{\"color\":\"white\"}},\"header\":{\"fill\":{\"color\":\"#C8D4E3\"},\"line\":{\"color\":\"white\"}},\"type\":\"table\"}],\"barpolar\":[{\"marker\":{\"line\":{\"color\":\"#E5ECF6\",\"width\":0.5},\"pattern\":{\"fillmode\":\"overlay\",\"size\":10,\"solidity\":0.2}},\"type\":\"barpolar\"}],\"pie\":[{\"automargin\":true,\"type\":\"pie\"}]},\"layout\":{\"autotypenumbers\":\"strict\",\"colorway\":[\"#636efa\",\"#EF553B\",\"#00cc96\",\"#ab63fa\",\"#FFA15A\",\"#19d3f3\",\"#FF6692\",\"#B6E880\",\"#FF97FF\",\"#FECB52\"],\"font\":{\"color\":\"#2a3f5f\"},\"hovermode\":\"closest\",\"hoverlabel\":{\"align\":\"left\"},\"paper_bgcolor\":\"white\",\"plot_bgcolor\":\"#E5ECF6\",\"polar\":{\"bgcolor\":\"#E5ECF6\",\"angularaxis\":{\"gridcolor\":\"white\",\"linecolor\":\"white\",\"ticks\":\"\"},\"radialaxis\":{\"gridcolor\":\"white\",\"linecolor\":\"white\",\"ticks\":\"\"}},\"ternary\":{\"bgcolor\":\"#E5ECF6\",\"aaxis\":{\"gridcolor\":\"white\",\"linecolor\":\"white\",\"ticks\":\"\"},\"baxis\":{\"gridcolor\":\"white\",\"linecolor\":\"white\",\"ticks\":\"\"},\"caxis\":{\"gridcolor\":\"white\",\"linecolor\":\"white\",\"ticks\":\"\"}},\"coloraxis\":{\"colorbar\":{\"outlinewidth\":0,\"ticks\":\"\"}},\"colorscale\":{\"sequential\":[[0.0,\"#0d0887\"],[0.1111111111111111,\"#46039f\"],[0.2222222222222222,\"#7201a8\"],[0.3333333333333333,\"#9c179e\"],[0.4444444444444444,\"#bd3786\"],[0.5555555555555556,\"#d8576b\"],[0.6666666666666666,\"#ed7953\"],[0.7777777777777778,\"#fb9f3a\"],[0.8888888888888888,\"#fdca26\"],[1.0,\"#f0f921\"]],\"sequentialminus\":[[0.0,\"#0d0887\"],[0.1111111111111111,\"#46039f\"],[0.2222222222222222,\"#7201a8\"],[0.3333333333333333,\"#9c179e\"],[0.4444444444444444,\"#bd3786\"],[0.5555555555555556,\"#d8576b\"],[0.6666666666666666,\"#ed7953\"],[0.7777777777777778,\"#fb9f3a\"],[0.8888888888888888,\"#fdca26\"],[1.0,\"#f0f921\"]],\"diverging\":[[0,\"#8e0152\"],[0.1,\"#c51b7d\"],[0.2,\"#de77ae\"],[0.3,\"#f1b6da\"],[0.4,\"#fde0ef\"],[0.5,\"#f7f7f7\"],[0.6,\"#e6f5d0\"],[0.7,\"#b8e186\"],[0.8,\"#7fbc41\"],[0.9,\"#4d9221\"],[1,\"#276419\"]]},\"xaxis\":{\"gridcolor\":\"white\",\"linecolor\":\"white\",\"ticks\":\"\",\"title\":{\"standoff\":15},\"zerolinecolor\":\"white\",\"automargin\":true,\"zerolinewidth\":2},\"yaxis\":{\"gridcolor\":\"white\",\"linecolor\":\"white\",\"ticks\":\"\",\"title\":{\"standoff\":15},\"zerolinecolor\":\"white\",\"automargin\":true,\"zerolinewidth\":2},\"scene\":{\"xaxis\":{\"backgroundcolor\":\"#E5ECF6\",\"gridcolor\":\"white\",\"linecolor\":\"white\",\"showbackground\":true,\"ticks\":\"\",\"zerolinecolor\":\"white\",\"gridwidth\":2},\"yaxis\":{\"backgroundcolor\":\"#E5ECF6\",\"gridcolor\":\"white\",\"linecolor\":\"white\",\"showbackground\":true,\"ticks\":\"\",\"zerolinecolor\":\"white\",\"gridwidth\":2},\"zaxis\":{\"backgroundcolor\":\"#E5ECF6\",\"gridcolor\":\"white\",\"linecolor\":\"white\",\"showbackground\":true,\"ticks\":\"\",\"zerolinecolor\":\"white\",\"gridwidth\":2}},\"shapedefaults\":{\"line\":{\"color\":\"#2a3f5f\"}},\"annotationdefaults\":{\"arrowcolor\":\"#2a3f5f\",\"arrowhead\":0,\"arrowwidth\":1},\"geo\":{\"bgcolor\":\"white\",\"landcolor\":\"#E5ECF6\",\"subunitcolor\":\"white\",\"showland\":true,\"showlakes\":true,\"lakecolor\":\"white\"},\"title\":{\"x\":0.05},\"mapbox\":{\"style\":\"light\"}}},\"xaxis\":{\"anchor\":\"y\",\"domain\":[0.0,1.0],\"title\":{\"text\":\"Date\"}},\"yaxis\":{\"anchor\":\"x\",\"domain\":[0.0,1.0],\"title\":{\"text\":\"value\"}},\"legend\":{\"title\":{\"text\":\"variable\"},\"tracegroupgap\":0},\"title\":{\"text\":\"Time Series: Aktual vs Prediksi\"}},                        {\"responsive\": true}                    ).then(function(){\n                            \nvar gd = document.getElementById('a26d8336-647b-439a-be9b-8ecd70c356e2');\nvar x = new MutationObserver(function (mutations, observer) {{\n        var display = window.getComputedStyle(gd).display;\n        if (!display || display === 'none') {{\n            console.log([gd, 'removed!']);\n            Plotly.purge(gd);\n            observer.disconnect();\n        }}\n}});\n\n// Listen for the removal of the full notebook cells\nvar notebookContainer = gd.closest('#notebook-container');\nif (notebookContainer) {{\n    x.observe(notebookContainer, {childList: true});\n}}\n\n// Listen for the clearing of the current output cell\nvar outputEl = gd.closest('.output');\nif (outputEl) {{\n    x.observe(outputEl, {childList: true});\n}}\n\n                        })                };                            </script>        </div>\n</body>\n</html>"
                },
                "metadata": {}
              }
            ]
          }
        },
        "154d7f77e0774437990de7199d6e9584": {
          "model_module": "@jupyter-widgets/base",
          "model_name": "LayoutModel",
          "model_module_version": "1.2.0",
          "state": {
            "_model_module": "@jupyter-widgets/base",
            "_model_module_version": "1.2.0",
            "_model_name": "LayoutModel",
            "_view_count": null,
            "_view_module": "@jupyter-widgets/base",
            "_view_module_version": "1.2.0",
            "_view_name": "LayoutView",
            "align_content": null,
            "align_items": null,
            "align_self": null,
            "border": null,
            "bottom": null,
            "display": null,
            "flex": null,
            "flex_flow": null,
            "grid_area": null,
            "grid_auto_columns": null,
            "grid_auto_flow": null,
            "grid_auto_rows": null,
            "grid_column": null,
            "grid_gap": null,
            "grid_row": null,
            "grid_template_areas": null,
            "grid_template_columns": null,
            "grid_template_rows": null,
            "height": null,
            "justify_content": null,
            "justify_items": null,
            "left": null,
            "margin": null,
            "max_height": null,
            "max_width": null,
            "min_height": null,
            "min_width": null,
            "object_fit": null,
            "object_position": null,
            "order": null,
            "overflow": null,
            "overflow_x": null,
            "overflow_y": null,
            "padding": null,
            "right": null,
            "top": null,
            "visibility": null,
            "width": null
          }
        },
        "6c73b095e355430ea7ffa8c8a4a51f0d": {
          "model_module": "@jupyter-widgets/base",
          "model_name": "LayoutModel",
          "model_module_version": "1.2.0",
          "state": {
            "_model_module": "@jupyter-widgets/base",
            "_model_module_version": "1.2.0",
            "_model_name": "LayoutModel",
            "_view_count": null,
            "_view_module": "@jupyter-widgets/base",
            "_view_module_version": "1.2.0",
            "_view_name": "LayoutView",
            "align_content": null,
            "align_items": null,
            "align_self": null,
            "border": null,
            "bottom": null,
            "display": null,
            "flex": null,
            "flex_flow": null,
            "grid_area": null,
            "grid_auto_columns": null,
            "grid_auto_flow": null,
            "grid_auto_rows": null,
            "grid_column": null,
            "grid_gap": null,
            "grid_row": null,
            "grid_template_areas": null,
            "grid_template_columns": null,
            "grid_template_rows": null,
            "height": null,
            "justify_content": null,
            "justify_items": null,
            "left": null,
            "margin": null,
            "max_height": null,
            "max_width": null,
            "min_height": null,
            "min_width": null,
            "object_fit": null,
            "object_position": null,
            "order": null,
            "overflow": null,
            "overflow_x": null,
            "overflow_y": null,
            "padding": null,
            "right": null,
            "top": null,
            "visibility": null,
            "width": null
          }
        },
        "5b14648fbba34edeb54a7654d4029248": {
          "model_module": "@jupyter-widgets/controls",
          "model_name": "DescriptionStyleModel",
          "model_module_version": "1.5.0",
          "state": {
            "_model_module": "@jupyter-widgets/controls",
            "_model_module_version": "1.5.0",
            "_model_name": "DescriptionStyleModel",
            "_view_count": null,
            "_view_module": "@jupyter-widgets/base",
            "_view_module_version": "1.2.0",
            "_view_name": "StyleView",
            "description_width": ""
          }
        },
        "2d833a7d39cf4e18a864e43b8c6ecb83": {
          "model_module": "@jupyter-widgets/base",
          "model_name": "LayoutModel",
          "model_module_version": "1.2.0",
          "state": {
            "_model_module": "@jupyter-widgets/base",
            "_model_module_version": "1.2.0",
            "_model_name": "LayoutModel",
            "_view_count": null,
            "_view_module": "@jupyter-widgets/base",
            "_view_module_version": "1.2.0",
            "_view_name": "LayoutView",
            "align_content": null,
            "align_items": null,
            "align_self": null,
            "border": null,
            "bottom": null,
            "display": null,
            "flex": null,
            "flex_flow": null,
            "grid_area": null,
            "grid_auto_columns": null,
            "grid_auto_flow": null,
            "grid_auto_rows": null,
            "grid_column": null,
            "grid_gap": null,
            "grid_row": null,
            "grid_template_areas": null,
            "grid_template_columns": null,
            "grid_template_rows": null,
            "height": null,
            "justify_content": null,
            "justify_items": null,
            "left": null,
            "margin": null,
            "max_height": null,
            "max_width": null,
            "min_height": null,
            "min_width": null,
            "object_fit": null,
            "object_position": null,
            "order": null,
            "overflow": null,
            "overflow_x": null,
            "overflow_y": null,
            "padding": null,
            "right": null,
            "top": null,
            "visibility": null,
            "width": null
          }
        }
      }
    }
  },
  "nbformat": 4,
  "nbformat_minor": 0
}