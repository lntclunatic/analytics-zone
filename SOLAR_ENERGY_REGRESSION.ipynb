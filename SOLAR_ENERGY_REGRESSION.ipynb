{
  "nbformat": 4,
  "nbformat_minor": 0,
  "metadata": {
    "colab": {
      "provenance": []
    },
    "kernelspec": {
      "name": "python3",
      "display_name": "Python 3"
    },
    "language_info": {
      "name": "python"
    }
  },
  "cells": [
    {
      "cell_type": "markdown",
      "source": [
        "IMPORT LIBRARY"
      ],
      "metadata": {
        "id": "eBhukv7LJxrq"
      }
    },
    {
      "cell_type": "code",
      "execution_count": null,
      "metadata": {
        "id": "d-Od2EeuAGMG"
      },
      "outputs": [],
      "source": [
        "import pandas as pd\n",
        "import numpy as np\n",
        "import matplotlib.pyplot as plt\n",
        "import statsmodels.api as sm\n",
        "from sklearn.metrics import mean_absolute_error, mean_squared_error"
      ]
    },
    {
      "cell_type": "markdown",
      "source": [
        "UPLOAD DATASET"
      ],
      "metadata": {
        "id": "gQNGvPdTJ-4H"
      }
    },
    {
      "cell_type": "code",
      "source": [
        "from google.colab import files\n",
        "uploaded = files.upload()\n",
        "\n",
        "df = pd.read_csv(\"forecasting_dataset.csv\")"
      ],
      "metadata": {
        "colab": {
          "base_uri": "https://localhost:8080/",
          "height": 73
        },
        "id": "y1h9PWmSAyLs",
        "outputId": "375ddfab-e502-4efb-f0b6-0efea53bc16f"
      },
      "execution_count": null,
      "outputs": [
        {
          "output_type": "display_data",
          "data": {
            "text/plain": [
              "<IPython.core.display.HTML object>"
            ],
            "text/html": [
              "\n",
              "     <input type=\"file\" id=\"files-77000594-a863-400e-ab69-8fdd0cf1dcff\" name=\"files[]\" multiple disabled\n",
              "        style=\"border:none\" />\n",
              "     <output id=\"result-77000594-a863-400e-ab69-8fdd0cf1dcff\">\n",
              "      Upload widget is only available when the cell has been executed in the\n",
              "      current browser session. Please rerun this cell to enable.\n",
              "      </output>\n",
              "      <script>// Copyright 2017 Google LLC\n",
              "//\n",
              "// Licensed under the Apache License, Version 2.0 (the \"License\");\n",
              "// you may not use this file except in compliance with the License.\n",
              "// You may obtain a copy of the License at\n",
              "//\n",
              "//      http://www.apache.org/licenses/LICENSE-2.0\n",
              "//\n",
              "// Unless required by applicable law or agreed to in writing, software\n",
              "// distributed under the License is distributed on an \"AS IS\" BASIS,\n",
              "// WITHOUT WARRANTIES OR CONDITIONS OF ANY KIND, either express or implied.\n",
              "// See the License for the specific language governing permissions and\n",
              "// limitations under the License.\n",
              "\n",
              "/**\n",
              " * @fileoverview Helpers for google.colab Python module.\n",
              " */\n",
              "(function(scope) {\n",
              "function span(text, styleAttributes = {}) {\n",
              "  const element = document.createElement('span');\n",
              "  element.textContent = text;\n",
              "  for (const key of Object.keys(styleAttributes)) {\n",
              "    element.style[key] = styleAttributes[key];\n",
              "  }\n",
              "  return element;\n",
              "}\n",
              "\n",
              "// Max number of bytes which will be uploaded at a time.\n",
              "const MAX_PAYLOAD_SIZE = 100 * 1024;\n",
              "\n",
              "function _uploadFiles(inputId, outputId) {\n",
              "  const steps = uploadFilesStep(inputId, outputId);\n",
              "  const outputElement = document.getElementById(outputId);\n",
              "  // Cache steps on the outputElement to make it available for the next call\n",
              "  // to uploadFilesContinue from Python.\n",
              "  outputElement.steps = steps;\n",
              "\n",
              "  return _uploadFilesContinue(outputId);\n",
              "}\n",
              "\n",
              "// This is roughly an async generator (not supported in the browser yet),\n",
              "// where there are multiple asynchronous steps and the Python side is going\n",
              "// to poll for completion of each step.\n",
              "// This uses a Promise to block the python side on completion of each step,\n",
              "// then passes the result of the previous step as the input to the next step.\n",
              "function _uploadFilesContinue(outputId) {\n",
              "  const outputElement = document.getElementById(outputId);\n",
              "  const steps = outputElement.steps;\n",
              "\n",
              "  const next = steps.next(outputElement.lastPromiseValue);\n",
              "  return Promise.resolve(next.value.promise).then((value) => {\n",
              "    // Cache the last promise value to make it available to the next\n",
              "    // step of the generator.\n",
              "    outputElement.lastPromiseValue = value;\n",
              "    return next.value.response;\n",
              "  });\n",
              "}\n",
              "\n",
              "/**\n",
              " * Generator function which is called between each async step of the upload\n",
              " * process.\n",
              " * @param {string} inputId Element ID of the input file picker element.\n",
              " * @param {string} outputId Element ID of the output display.\n",
              " * @return {!Iterable<!Object>} Iterable of next steps.\n",
              " */\n",
              "function* uploadFilesStep(inputId, outputId) {\n",
              "  const inputElement = document.getElementById(inputId);\n",
              "  inputElement.disabled = false;\n",
              "\n",
              "  const outputElement = document.getElementById(outputId);\n",
              "  outputElement.innerHTML = '';\n",
              "\n",
              "  const pickedPromise = new Promise((resolve) => {\n",
              "    inputElement.addEventListener('change', (e) => {\n",
              "      resolve(e.target.files);\n",
              "    });\n",
              "  });\n",
              "\n",
              "  const cancel = document.createElement('button');\n",
              "  inputElement.parentElement.appendChild(cancel);\n",
              "  cancel.textContent = 'Cancel upload';\n",
              "  const cancelPromise = new Promise((resolve) => {\n",
              "    cancel.onclick = () => {\n",
              "      resolve(null);\n",
              "    };\n",
              "  });\n",
              "\n",
              "  // Wait for the user to pick the files.\n",
              "  const files = yield {\n",
              "    promise: Promise.race([pickedPromise, cancelPromise]),\n",
              "    response: {\n",
              "      action: 'starting',\n",
              "    }\n",
              "  };\n",
              "\n",
              "  cancel.remove();\n",
              "\n",
              "  // Disable the input element since further picks are not allowed.\n",
              "  inputElement.disabled = true;\n",
              "\n",
              "  if (!files) {\n",
              "    return {\n",
              "      response: {\n",
              "        action: 'complete',\n",
              "      }\n",
              "    };\n",
              "  }\n",
              "\n",
              "  for (const file of files) {\n",
              "    const li = document.createElement('li');\n",
              "    li.append(span(file.name, {fontWeight: 'bold'}));\n",
              "    li.append(span(\n",
              "        `(${file.type || 'n/a'}) - ${file.size} bytes, ` +\n",
              "        `last modified: ${\n",
              "            file.lastModifiedDate ? file.lastModifiedDate.toLocaleDateString() :\n",
              "                                    'n/a'} - `));\n",
              "    const percent = span('0% done');\n",
              "    li.appendChild(percent);\n",
              "\n",
              "    outputElement.appendChild(li);\n",
              "\n",
              "    const fileDataPromise = new Promise((resolve) => {\n",
              "      const reader = new FileReader();\n",
              "      reader.onload = (e) => {\n",
              "        resolve(e.target.result);\n",
              "      };\n",
              "      reader.readAsArrayBuffer(file);\n",
              "    });\n",
              "    // Wait for the data to be ready.\n",
              "    let fileData = yield {\n",
              "      promise: fileDataPromise,\n",
              "      response: {\n",
              "        action: 'continue',\n",
              "      }\n",
              "    };\n",
              "\n",
              "    // Use a chunked sending to avoid message size limits. See b/62115660.\n",
              "    let position = 0;\n",
              "    do {\n",
              "      const length = Math.min(fileData.byteLength - position, MAX_PAYLOAD_SIZE);\n",
              "      const chunk = new Uint8Array(fileData, position, length);\n",
              "      position += length;\n",
              "\n",
              "      const base64 = btoa(String.fromCharCode.apply(null, chunk));\n",
              "      yield {\n",
              "        response: {\n",
              "          action: 'append',\n",
              "          file: file.name,\n",
              "          data: base64,\n",
              "        },\n",
              "      };\n",
              "\n",
              "      let percentDone = fileData.byteLength === 0 ?\n",
              "          100 :\n",
              "          Math.round((position / fileData.byteLength) * 100);\n",
              "      percent.textContent = `${percentDone}% done`;\n",
              "\n",
              "    } while (position < fileData.byteLength);\n",
              "  }\n",
              "\n",
              "  // All done.\n",
              "  yield {\n",
              "    response: {\n",
              "      action: 'complete',\n",
              "    }\n",
              "  };\n",
              "}\n",
              "\n",
              "scope.google = scope.google || {};\n",
              "scope.google.colab = scope.google.colab || {};\n",
              "scope.google.colab._files = {\n",
              "  _uploadFiles,\n",
              "  _uploadFilesContinue,\n",
              "};\n",
              "})(self);\n",
              "</script> "
            ]
          },
          "metadata": {}
        },
        {
          "output_type": "stream",
          "name": "stdout",
          "text": [
            "Saving forecasting_dataset.csv to forecasting_dataset.csv\n"
          ]
        }
      ]
    },
    {
      "cell_type": "markdown",
      "source": [
        "DATA PREPARATION"
      ],
      "metadata": {
        "id": "UZZAplDYKHnO"
      }
    },
    {
      "cell_type": "code",
      "source": [
        "df = df.rename(columns={\n",
        "    \"Irradiance (kWh/m²)\": \"Irradiance\",\n",
        "    \"Temperature (°C)\": \"Temperature\",\n",
        "    \"Humidity (%)\": \"Humidity\",\n",
        "    \"Solar Output (MWh)\": \"Solar Output\"\n",
        "})\n",
        "\n",
        "df[\"Date\"] = pd.to_datetime(df[\"Date\"])\n",
        "\n",
        "# Buat kolom Day Number (1, 2, 3, ...)\n",
        "df[\"Day_Number\"] = (df[\"Date\"] - df[\"Date\"].min()).dt.days + 1\n",
        "\n",
        "print(\"Data berhasil dibaca!\")\n",
        "print(df.head())"
      ],
      "metadata": {
        "colab": {
          "base_uri": "https://localhost:8080/"
        },
        "id": "SJSvXvICAx7r",
        "outputId": "27eec8e2-028a-4173-cf1a-c34e096911fe"
      },
      "execution_count": null,
      "outputs": [
        {
          "output_type": "stream",
          "name": "stdout",
          "text": [
            "Data berhasil dibaca!\n",
            "        Date  Irradiance  Temperature   Humidity  Solar Output  Day_Number\n",
            "0 2023-01-01    5.745071    27.169259  63.577874      0.983215           1\n",
            "1 2023-01-02    4.792604    29.158709  65.607845      0.846485           2\n",
            "2 2023-01-03    5.971533    29.314571  70.830512      1.343765           3\n",
            "3 2023-01-04    7.284545    28.395445  70.538021      1.578983           4\n",
            "4 2023-01-05    4.648770    29.677429  46.223306      0.925574           5\n"
          ]
        }
      ]
    },
    {
      "cell_type": "markdown",
      "source": [
        "REGRESI LINEAR (IRRADIANCE VS SOLAR OUTPUT)"
      ],
      "metadata": {
        "id": "VTP-zxTsKNmu"
      }
    },
    {
      "cell_type": "code",
      "source": [
        "X = sm.add_constant(df[\"Irradiance\"])\n",
        "model_irr = sm.OLS(df[\"Solar Output\"], X).fit()\n",
        "\n",
        "print(\"\\n=== Regresi Linear Irradiance vs Solar Output ===\")\n",
        "print(model_irr.summary())\n",
        "\n",
        "# Visualisasi scatter plot + trendline\n",
        "plt.figure(figsize=(8,5))\n",
        "plt.scatter(df[\"Irradiance\"], df[\"Solar Output\"], label=\"Data\")\n",
        "plt.plot(df[\"Irradiance\"], model_irr.predict(X), color='red', label=\"Trendline\")\n",
        "plt.xlabel(\"Irradiance (kWh/m²)\")\n",
        "plt.ylabel(\"Solar Output (MWh)\")\n",
        "plt.title(\"Scatter Plot: Irradiance vs Solar Output\")\n",
        "plt.legend()\n",
        "plt.show()"
      ],
      "metadata": {
        "colab": {
          "base_uri": "https://localhost:8080/",
          "height": 956
        },
        "id": "RdGON3YoAx2-",
        "outputId": "d6cc9bdf-5b0a-468c-aea5-d83a03c8cfdf"
      },
      "execution_count": null,
      "outputs": [
        {
          "output_type": "stream",
          "name": "stdout",
          "text": [
            "\n",
            "=== Regresi Linear Irradiance vs Solar Output ===\n",
            "                            OLS Regression Results                            \n",
            "==============================================================================\n",
            "Dep. Variable:           Solar Output   R-squared:                       0.659\n",
            "Model:                            OLS   Adj. R-squared:                  0.656\n",
            "Method:                 Least Squares   F-statistic:                     189.6\n",
            "Date:                Tue, 16 Sep 2025   Prob (F-statistic):           1.21e-24\n",
            "Time:                        00:17:55   Log-Likelihood:                 33.341\n",
            "No. Observations:                 100   AIC:                            -62.68\n",
            "Df Residuals:                      98   BIC:                            -57.47\n",
            "Df Model:                           1                                         \n",
            "Covariance Type:            nonrobust                                         \n",
            "==============================================================================\n",
            "                 coef    std err          t      P>|t|      [0.025      0.975]\n",
            "------------------------------------------------------------------------------\n",
            "const          0.1284      0.065      1.976      0.051      -0.001       0.257\n",
            "Irradiance     0.1779      0.013     13.769      0.000       0.152       0.204\n",
            "==============================================================================\n",
            "Omnibus:                        1.751   Durbin-Watson:                   1.845\n",
            "Prob(Omnibus):                  0.417   Jarque-Bera (JB):                1.621\n",
            "Skew:                           0.201   Prob(JB):                        0.445\n",
            "Kurtosis:                       2.524   Cond. No.                         19.4\n",
            "==============================================================================\n",
            "\n",
            "Notes:\n",
            "[1] Standard Errors assume that the covariance matrix of the errors is correctly specified.\n"
          ]
        },
        {
          "output_type": "display_data",
          "data": {
            "text/plain": [
              "<Figure size 800x500 with 1 Axes>"
            ],
            "image/png": "[encoded data removed]"
          },
          "metadata": {}
        }
      ]
    },
    {
      "cell_type": "markdown",
      "source": [
        "REGRESI LINER (DAY NUMBER VS SOLAR OUTPUT)"
      ],
      "metadata": {
        "id": "VUzj-anXKXt1"
      }
    },
    {
      "cell_type": "code",
      "source": [
        "X_day = sm.add_constant(df[\"Day_Number\"])\n",
        "model_day = sm.OLS(df[\"Solar Output\"], X_day).fit()\n",
        "\n",
        "print(\"\\n=== Regresi Linear Day Number vs Solar Output ===\")\n",
        "print(model_day.summary())\n",
        "\n",
        "plt.figure(figsize=(8,5))\n",
        "plt.scatter(df[\"Day_Number\"], df[\"Solar Output\"], label=\"Data\")\n",
        "plt.plot(df[\"Day_Number\"], model_day.predict(X_day), color='orange', label=\"Trendline\")\n",
        "plt.xlabel(\"Day Number\")\n",
        "plt.ylabel(\"Solar Output (MWh)\")\n",
        "plt.title(\"Scatter Plot: Day Number vs Solar Output\")\n",
        "plt.legend()\n",
        "plt.show()"
      ],
      "metadata": {
        "id": "dZ1B689oA8K2",
        "colab": {
          "base_uri": "https://localhost:8080/",
          "height": 956
        },
        "outputId": "ef92747b-63ad-4b4b-d494-6c4e375dd0e0"
      },
      "execution_count": null,
      "outputs": [
        {
          "output_type": "stream",
          "name": "stdout",
          "text": [
            "\n",
            "=== Regresi Linear Day Number vs Solar Output ===\n",
            "                            OLS Regression Results                            \n",
            "==============================================================================\n",
            "Dep. Variable:           Solar Output   R-squared:                       0.001\n",
            "Model:                            OLS   Adj. R-squared:                 -0.009\n",
            "Method:                 Least Squares   F-statistic:                    0.1222\n",
            "Date:                Tue, 16 Sep 2025   Prob (F-statistic):              0.727\n",
            "Time:                        00:18:02   Log-Likelihood:                -20.426\n",
            "No. Observations:                 100   AIC:                             44.85\n",
            "Df Residuals:                      98   BIC:                             50.06\n",
            "Df Model:                           1                                         \n",
            "Covariance Type:            nonrobust                                         \n",
            "==============================================================================\n",
            "                 coef    std err          t      P>|t|      [0.025      0.975]\n",
            "------------------------------------------------------------------------------\n",
            "const          0.9719      0.060     16.086      0.000       0.852       1.092\n",
            "Day_Number     0.0004      0.001      0.350      0.727      -0.002       0.002\n",
            "==============================================================================\n",
            "Omnibus:                        0.007   Durbin-Watson:                   1.964\n",
            "Prob(Omnibus):                  0.996   Jarque-Bera (JB):                0.109\n",
            "Skew:                           0.015   Prob(JB):                        0.947\n",
            "Kurtosis:                       2.841   Cond. No.                         117.\n",
            "==============================================================================\n",
            "\n",
            "Notes:\n",
            "[1] Standard Errors assume that the covariance matrix of the errors is correctly specified.\n"
          ]
        },
        {
          "output_type": "display_data",
          "data": {
            "text/plain": [
              "<Figure size 800x500 with 1 Axes>"
            ],
            "image/png": "[encoded data removed]"
          },
          "metadata": {}
        }
      ]
    },
    {
      "cell_type": "markdown",
      "source": [
        "REGRESI MULTIVARIAT"
      ],
      "metadata": {
        "id": "jmA1Tp5SKlG-"
      }
    },
    {
      "cell_type": "code",
      "source": [
        "X_multi = sm.add_constant(df[[\"Irradiance\", \"Temperature\", \"Humidity\"]])\n",
        "model_multi = sm.OLS(df[\"Solar Output\"], X_multi).fit()\n",
        "\n",
        "print(\"\\n=== Regresi Multivariat ===\")\n",
        "print(model_multi.summary())"
      ],
      "metadata": {
        "colab": {
          "base_uri": "https://localhost:8080/"
        },
        "id": "XTH4nym1A79A",
        "outputId": "cc0cb918-89d4-45ec-8cc6-603593673957"
      },
      "execution_count": null,
      "outputs": [
        {
          "output_type": "stream",
          "name": "stdout",
          "text": [
            "\n",
            "=== Regresi Multivariat ===\n",
            "                            OLS Regression Results                            \n",
            "==============================================================================\n",
            "Dep. Variable:           Solar Output   R-squared:                       0.660\n",
            "Model:                            OLS   Adj. R-squared:                  0.650\n",
            "Method:                 Least Squares   F-statistic:                     62.17\n",
            "Date:                Fri, 05 Sep 2025   Prob (F-statistic):           2.03e-22\n",
            "Time:                        13:56:40   Log-Likelihood:                 33.483\n",
            "No. Observations:                 100   AIC:                            -58.97\n",
            "Df Residuals:                      96   BIC:                            -48.54\n",
            "Df Model:                           3                                         \n",
            "Covariance Type:            nonrobust                                         \n",
            "===============================================================================\n",
            "                  coef    std err          t      P>|t|      [0.025      0.975]\n",
            "-------------------------------------------------------------------------------\n",
            "const           0.2182      0.312      0.699      0.486      -0.402       0.838\n",
            "Irradiance      0.1764      0.013     13.164      0.000       0.150       0.203\n",
            "Temperature    -0.0038      0.009     -0.407      0.685      -0.022       0.015\n",
            "Humidity        0.0005      0.002      0.322      0.748      -0.003       0.004\n",
            "==============================================================================\n",
            "Omnibus:                        1.353   Durbin-Watson:                   1.821\n",
            "Prob(Omnibus):                  0.508   Jarque-Bera (JB):                1.317\n",
            "Skew:                           0.169   Prob(JB):                        0.518\n",
            "Kurtosis:                       2.551   Cond. No.                     1.21e+03\n",
            "==============================================================================\n",
            "\n",
            "Notes:\n",
            "[1] Standard Errors assume that the covariance matrix of the errors is correctly specified.\n",
            "[2] The condition number is large, 1.21e+03. This might indicate that there are\n",
            "strong multicollinearity or other numerical problems.\n"
          ]
        }
      ]
    },
    {
      "cell_type": "markdown",
      "source": [
        "EVALUASI MODEL"
      ],
      "metadata": {
        "id": "lYio6BKlKsBs"
      }
    },
    {
      "cell_type": "code",
      "source": [
        "df[\"Predicted\"] = model_multi.predict(X_multi)\n",
        "\n",
        "mae = mean_absolute_error(df[\"Solar Output\"], df[\"Predicted\"])\n",
        "rmse = np.sqrt(mean_squared_error(df[\"Solar Output\"], df[\"Predicted\"]))\n",
        "mape = np.mean(np.abs((df[\"Solar Output\"] - df[\"Predicted\"]) / df[\"Solar Output\"])) * 100\n",
        "\n",
        "print(\"\\n=== Evaluasi Model ===\")\n",
        "print(f\"MAE  : {mae:.4f}\")\n",
        "print(f\"RMSE : {rmse:.4f}\")\n",
        "print(f\"MAPE : {mape:.2f}%\")"
      ],
      "metadata": {
        "colab": {
          "base_uri": "https://localhost:8080/"
        },
        "id": "BpeCpVBLAxxq",
        "outputId": "f11e0423-0a22-4fdd-f962-4212887da127"
      },
      "execution_count": null,
      "outputs": [
        {
          "output_type": "stream",
          "name": "stdout",
          "text": [
            "\n",
            "=== Evaluasi Model ===\n",
            "MAE  : 0.1421\n",
            "RMSE : 0.1731\n",
            "MAPE : 16.43%\n"
          ]
        }
      ]
    },
    {
      "cell_type": "markdown",
      "source": [
        "## 1. Regresi Linear Irradiance vs Solar Output\n",
        "- Persamaan regresi: **Y = a + bX**\n",
        "- Nilai R² menunjukkan seberapa besar variasi Solar Output bisa dijelaskan oleh Irradiance.\n",
        "- Jika R² mendekati 1 → hubungan sangat kuat.\n",
        "\n",
        "## 2. Regresi Linear Day Number vs Solar Output\n",
        "- R² lebih kecil dari regresi Irradiance → waktu (day number) kurang berpengaruh.\n",
        "\n",
        "## 3. Regresi Multivariat\n",
        "- Lihat koefisien (coef) → mana yang paling besar pengaruhnya.\n",
        "- Perhatikan p-value:\n",
        "  - p-value < 0.05 → signifikan secara statistik.\n",
        "- Adjusted R² lebih tinggi → model multivariat lebih akurat dibandingkan model sederhana.\n",
        "\n",
        "## 4. Evaluasi Model\n",
        "- MAE (Mean Absolute Error) → rata-rata selisih absolut prediksi.\n",
        "- RMSE (Root Mean Squared Error) → kesalahan kuadrat.\n",
        "- MAPE (%) → persentase kesalahan.\n",
        "- Nilai yang lebih kecil berarti model lebih akurat."
      ],
      "metadata": {
        "id": "yNnYPsqXLLVz"
      }
    }
  ]
}